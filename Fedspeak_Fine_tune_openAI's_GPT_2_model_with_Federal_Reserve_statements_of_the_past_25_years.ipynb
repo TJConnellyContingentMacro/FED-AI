{
 "cells": [
  {
   "cell_type": "markdown",
   "metadata": {
    "colab_type": "text",
    "id": "view-in-github"
   },
   "source": [
    "<a href=\"https://colab.research.google.com/github/marceld/FED-AI/blob/master/Fedspeak_Fine_tune_openAI's_GPT_2_model_with_Federal_Reserve_statements_of_the_past_25_years.ipynb\" target=\"_parent\"><img src=\"https://colab.research.google.com/assets/colab-badge.svg\" alt=\"Open In Colab\"/></a>"
   ]
  },
  {
   "cell_type": "markdown",
   "metadata": {
    "colab_type": "text",
    "id": "H7LoMj4GA4n_"
   },
   "source": [
    "#  Fine-tuning openAI's GPT-2 model with Federal Reserve statements of the past 25 years \n",
    "\n",
    "based on Max Woolf's work: [GitHub repository](https://github.com/minimaxir/gpt-2-simple)\n",
    "\n"
   ]
  },
  {
   "cell_type": "code",
   "execution_count": 1,
   "metadata": {
    "colab": {
     "base_uri": "https://localhost:8080/",
     "height": 89
    },
    "colab_type": "code",
    "id": "KBkpRgBCBS2_",
    "outputId": "a7bfd213-f195-457e-fd69-753e57254584"
   },
   "outputs": [
    {
     "name": "stderr",
     "output_type": "stream",
     "text": [
      "WARNING: Logging before flag parsing goes to stderr.\n",
      "W0726 17:07:12.385457 140704285669248 deprecation_wrapper.py:119] From /usr/local/lib/python3.6/dist-packages/gpt_2_simple/src/memory_saving_gradients.py:13: The name tf.GraphKeys is deprecated. Please use tf.compat.v1.GraphKeys instead.\n",
      "\n"
     ]
    }
   ],
   "source": [
    "!pip install -q gpt-2-simple\n",
    "import gpt_2_simple as gpt2\n",
    "from datetime import datetime\n",
    "from google.colab import files"
   ]
  },
  {
   "cell_type": "code",
   "execution_count": 2,
   "metadata": {
    "colab": {
     "base_uri": "https://localhost:8080/",
     "height": 311
    },
    "colab_type": "code",
    "id": "sUmTooTW3osf",
    "outputId": "19ab13ee-352e-489c-a76b-95fe7439d175"
   },
   "outputs": [
    {
     "name": "stdout",
     "output_type": "stream",
     "text": [
      "Fri Jul 26 16:03:38 2019       \n",
      "+-----------------------------------------------------------------------------+\n",
      "| NVIDIA-SMI 418.67       Driver Version: 410.79       CUDA Version: 10.0     |\n",
      "|-------------------------------+----------------------+----------------------+\n",
      "| GPU  Name        Persistence-M| Bus-Id        Disp.A | Volatile Uncorr. ECC |\n",
      "| Fan  Temp  Perf  Pwr:Usage/Cap|         Memory-Usage | GPU-Util  Compute M. |\n",
      "|===============================+======================+======================|\n",
      "|   0  Tesla T4            Off  | 00000000:00:04.0 Off |                    0 |\n",
      "| N/A   41C    P8    15W /  70W |      0MiB / 15079MiB |      0%      Default |\n",
      "+-------------------------------+----------------------+----------------------+\n",
      "                                                                               \n",
      "+-----------------------------------------------------------------------------+\n",
      "| Processes:                                                       GPU Memory |\n",
      "|  GPU       PID   Type   Process name                             Usage      |\n",
      "|=============================================================================|\n",
      "|  No running processes found                                                 |\n",
      "+-----------------------------------------------------------------------------+\n"
     ]
    }
   ],
   "source": [
    "!nvidia-smi"
   ]
  },
  {
   "cell_type": "code",
   "execution_count": 3,
   "metadata": {
    "colab": {
     "base_uri": "https://localhost:8080/",
     "height": 138
    },
    "colab_type": "code",
    "id": "P8wSlgXoDPCR",
    "outputId": "d6582ae5-d25a-48eb-c07c-642423bdccef"
   },
   "outputs": [
    {
     "name": "stderr",
     "output_type": "stream",
     "text": [
      "Fetching checkpoint: 1.05Mit [00:00, 232Mit/s]                                                      \n",
      "Fetching encoder.json: 1.05Mit [00:00, 92.2Mit/s]                                                   \n",
      "Fetching hparams.json: 1.05Mit [00:00, 569Mit/s]                                                    \n",
      "Fetching model.ckpt.data-00000-of-00001: 1.42Git [00:09, 145Mit/s]                                  \n",
      "Fetching model.ckpt.index: 1.05Mit [00:00, 221Mit/s]                                                \n",
      "Fetching model.ckpt.meta: 1.05Mit [00:00, 105Mit/s]                                                 \n",
      "Fetching vocab.bpe: 1.05Mit [00:00, 135Mit/s]                                                       \n"
     ]
    }
   ],
   "source": [
    "gpt2.download_gpt2(model_name=\"345M\")"
   ]
  },
  {
   "cell_type": "code",
   "execution_count": 4,
   "metadata": {
    "colab": {
     "base_uri": "https://localhost:8080/",
     "height": 55
    },
    "colab_type": "code",
    "id": "puq4iC6vUAHc",
    "outputId": "49d7e90e-57e6-4ff9-b694-1829a6649e30"
   },
   "outputs": [
    {
     "name": "stdout",
     "output_type": "stream",
     "text": [
      "Drive already mounted at /content/drive; to attempt to forcibly remount, call drive.mount(\"/content/drive\", force_remount=True).\n"
     ]
    }
   ],
   "source": [
    "gpt2.mount_gdrive()"
   ]
  },
  {
   "cell_type": "code",
   "execution_count": 0,
   "metadata": {
    "colab": {},
    "colab_type": "code",
    "id": "6OFnPCLADfll"
   },
   "outputs": [],
   "source": [
    "file_name = \"text_clean.txt\""
   ]
  },
  {
   "cell_type": "code",
   "execution_count": 0,
   "metadata": {
    "colab": {},
    "colab_type": "code",
    "id": "-Z6okFD8VKtS"
   },
   "outputs": [],
   "source": [
    "gpt2.copy_file_from_gdrive(file_name)"
   ]
  },
  {
   "cell_type": "markdown",
   "metadata": {
    "colab_type": "text",
    "id": "LdpZQXknFNY3"
   },
   "source": [
    "## Finetune GPT-2 with TensorFlow\n",
    "\n",
    "Optional parameters for `gpt2.finetune`:\n",
    "\n",
    "\n",
    "*  **`restore_from`**: Set to `fresh` to start training from the base GPT-2, or set to `latest` to restart training from an existing checkpoint.\n",
    "* **`sample_every`**: Number of steps to print example output\n",
    "* **`print_every`**: Number of steps to print training progress.\n",
    "* **`learning_rate`**:  Learning rate for the training. (default `1e-4`, can lower to `1e-5` if you have <1MB input data)\n",
    "*  **`run_name`**: subfolder within `checkpoint` to save the model. This is useful if you want to work with multiple models (will also need to specify  `run_name` when loading the model)\n",
    "* **`overwrite`**: Set to `True` if you want to continue finetuning an existing model (w/ `restore_from='latest'`) without creating duplicate copies. "
   ]
  },
  {
   "cell_type": "code",
   "execution_count": 7,
   "metadata": {
    "colab": {
     "base_uri": "https://localhost:8080/",
     "height": 55
    },
    "colab_type": "code",
    "id": "S0t71c5kqmVP",
    "outputId": "42f93ec1-eab2-4dc4-caf4-e45f7fceb3fd"
   },
   "outputs": [
    {
     "name": "stdout",
     "output_type": "stream",
     "text": [
      "Drive already mounted at /content/drive; to attempt to forcibly remount, call drive.mount(\"/content/drive\", force_remount=True).\n"
     ]
    }
   ],
   "source": [
    "# Run this cell to mount your Google Drive.\n",
    "from google.colab import drive\n",
    "drive.mount('/content/drive')"
   ]
  },
  {
   "cell_type": "code",
   "execution_count": 8,
   "metadata": {
    "colab": {
     "base_uri": "https://localhost:8080/",
     "height": 1000
    },
    "colab_type": "code",
    "id": "aeXshJM-Cuaf",
    "outputId": "8c14a74d-dd48-4cb5-a0b5-2ae84b996f34"
   },
   "outputs": [
    {
     "name": "stderr",
     "output_type": "stream",
     "text": [
      "W0726 16:04:15.685904 139940845504384 deprecation_wrapper.py:119] From /usr/local/lib/python3.6/dist-packages/gpt_2_simple/gpt_2.py:90: The name tf.ConfigProto is deprecated. Please use tf.compat.v1.ConfigProto instead.\n",
      "\n",
      "W0726 16:04:15.689112 139940845504384 deprecation_wrapper.py:119] From /usr/local/lib/python3.6/dist-packages/gpt_2_simple/gpt_2.py:100: The name tf.Session is deprecated. Please use tf.compat.v1.Session instead.\n",
      "\n",
      "W0726 16:04:15.972184 139940845504384 deprecation_wrapper.py:119] From /usr/local/lib/python3.6/dist-packages/gpt_2_simple/gpt_2.py:164: The name tf.placeholder is deprecated. Please use tf.compat.v1.placeholder instead.\n",
      "\n",
      "W0726 16:04:15.976478 139940845504384 deprecation_wrapper.py:119] From /usr/local/lib/python3.6/dist-packages/gpt_2_simple/src/model.py:148: The name tf.variable_scope is deprecated. Please use tf.compat.v1.variable_scope instead.\n",
      "\n",
      "W0726 16:04:27.502850 139940845504384 deprecation.py:323] From /usr/local/lib/python3.6/dist-packages/gpt_2_simple/src/sample.py:71: to_float (from tensorflow.python.ops.math_ops) is deprecated and will be removed in a future version.\n",
      "Instructions for updating:\n",
      "Use `tf.cast` instead.\n",
      "W0726 16:04:27.523214 139940845504384 deprecation.py:323] From /usr/local/lib/python3.6/dist-packages/gpt_2_simple/src/sample.py:17: add_dispatch_support.<locals>.wrapper (from tensorflow.python.ops.array_ops) is deprecated and will be removed in a future version.\n",
      "Instructions for updating:\n",
      "Use tf.where in 2.0, which has the same broadcast rule as np.where\n",
      "W0726 16:04:27.526496 139940845504384 deprecation.py:323] From /usr/local/lib/python3.6/dist-packages/gpt_2_simple/src/sample.py:77: multinomial (from tensorflow.python.ops.random_ops) is deprecated and will be removed in a future version.\n",
      "Instructions for updating:\n",
      "Use `tf.random.categorical` instead.\n",
      "W0726 16:04:27.539279 139940845504384 deprecation_wrapper.py:119] From /usr/local/lib/python3.6/dist-packages/gpt_2_simple/gpt_2.py:191: The name tf.train.AdamOptimizer is deprecated. Please use tf.compat.v1.train.AdamOptimizer instead.\n",
      "\n",
      "W0726 16:04:43.466068 139940845504384 deprecation_wrapper.py:119] From /usr/local/lib/python3.6/dist-packages/gpt_2_simple/gpt_2.py:198: The name tf.summary.scalar is deprecated. Please use tf.compat.v1.summary.scalar instead.\n",
      "\n",
      "W0726 16:04:43.468978 139940845504384 deprecation_wrapper.py:119] From /usr/local/lib/python3.6/dist-packages/gpt_2_simple/gpt_2.py:200: The name tf.summary.FileWriter is deprecated. Please use tf.compat.v1.summary.FileWriter instead.\n",
      "\n",
      "W0726 16:04:43.474900 139940845504384 deprecation_wrapper.py:119] From /usr/local/lib/python3.6/dist-packages/gpt_2_simple/gpt_2.py:202: The name tf.train.Saver is deprecated. Please use tf.compat.v1.train.Saver instead.\n",
      "\n",
      "W0726 16:04:55.034811 139940845504384 deprecation.py:323] From /usr/local/lib/python3.6/dist-packages/tensorflow/python/training/saver.py:1276: checkpoint_exists (from tensorflow.python.training.checkpoint_management) is deprecated and will be removed in a future version.\n",
      "Instructions for updating:\n",
      "Use standard file APIs to check for files with this prefix.\n"
     ]
    },
    {
     "name": "stdout",
     "output_type": "stream",
     "text": [
      "Loading checkpoint models/345M/model.ckpt\n"
     ]
    },
    {
     "name": "stderr",
     "output_type": "stream",
     "text": [
      "\r",
      "  0%|          | 0/1 [00:00<?, ?it/s]"
     ]
    },
    {
     "name": "stdout",
     "output_type": "stream",
     "text": [
      "Loading dataset...\n"
     ]
    },
    {
     "name": "stderr",
     "output_type": "stream",
     "text": [
      "\r",
      "100%|██████████| 1/1 [00:00<00:00,  2.13it/s]\n"
     ]
    },
    {
     "name": "stdout",
     "output_type": "stream",
     "text": [
      "dataset has 73969 tokens\n",
      "Training...\n",
      "[10 | 24.52] loss=2.01 avg=2.01\n",
      "[20 | 39.28] loss=0.82 avg=1.41\n",
      "[30 | 54.17] loss=0.75 avg=1.19\n",
      "[40 | 69.24] loss=1.69 avg=1.32\n",
      "[50 | 84.44] loss=0.55 avg=1.16\n",
      "[60 | 99.76] loss=0.33 avg=1.02\n",
      "[70 | 115.17] loss=0.39 avg=0.93\n",
      "[80 | 130.73] loss=0.78 avg=0.91\n",
      "[90 | 146.34] loss=0.59 avg=0.87\n",
      "[100 | 162.04] loss=0.53 avg=0.83\n",
      "[110 | 177.84] loss=0.23 avg=0.78\n",
      "[120 | 193.75] loss=0.34 avg=0.74\n",
      "[130 | 209.74] loss=0.64 avg=0.73\n",
      "[140 | 225.86] loss=0.41 avg=0.71\n",
      "[150 | 242.02] loss=0.43 avg=0.69\n",
      "[160 | 258.19] loss=0.54 avg=0.68\n",
      "[170 | 274.42] loss=0.19 avg=0.65\n",
      "[180 | 290.75] loss=0.91 avg=0.66\n",
      "[190 | 307.14] loss=0.22 avg=0.64\n",
      "[200 | 323.48] loss=0.12 avg=0.61\n",
      "======== SAMPLE 1 ========\n",
      " employment of consumer and business credit and demand for the primary goods and services produced is restraining price levels. Moreover, the expansion of production has slowed as a result of the weak performance of the economy and the labor market weakness. The Committee anticipates a slight easing of fiscal policies in the near term, but the unemployment rate will rise later this year and next year as additional resources are made available by the federal government. The Committee expects the unemployment rate to decline later this year and next year as a result of a combination of price and fiscal accommodative actions taken by both countries. Inflation is anticipated to remain relatively low in the near term but the Committee continues to anticipate an increase in the target range for the federal funds rate of 2 to 2-1/2 percent in the medium term as the effects of past energy and other commodity price increases dissipate further. In light of the inflation outlook, the Committee decided to conclude its statement by reaffirming its view that the current 0 to 1/4 percent target range for the federal funds rate remains appropriate. In determining how long to maintain this target range, the Committee will evaluate progress--both realized and expected--toward its objectives of maximum employment and 2 percent inflation. This assessment will take into account a wide range of information, including measures of labor market conditions, indicators of inflation pressures and inflation expectations, and readings on financial developments. The Committee continues to anticipate a moderate pace of economic expansion in the foreseeable future. In light of the inflation outlook, the Committee decided to conclude its statement by reaffirming its view that the current 0 to 1/4 percent target range for the federal funds rate remains appropriate. In determining how long to maintain this target range, the Committee will evaluate progress--both realized and expected--toward its objectives of maximum employment and 2 percent inflation. This assessment will take into account a wide range of information, including measures of labor market conditions, indicators of inflation pressures and inflation expectations, and readings on financial developments. The Committee continues to anticipate a moderate pace of economic expansion in the foreseeable future. In light of the inflation outlook, the Committee decided to conclude its statement by reaffirming its view that the current 0 to 1/4 percent target range for the federal funds rate remains appropriate. In determining how long to maintain this target range, the Committee will evaluate progress--both realized and expected--toward its objectives of maximum employment and 2 percent inflation. This assessment will take into account a wide range of information, including measures of labor market conditions, indicators of inflation pressures and inflation expectations, and readings on financial developments.           Information received since the Federal Open Market Committee met in November suggests that economic activity has been expanding at a brisk pace, and labor market conditions have improved further. Household spending seems to be rising more quickly. Businesses need to be alert to price increases in the near term, but bank lending and the housing sector have shown less sign of strain, and overall financial conditions have been improving. The economic expansion has been modest in comparison with the expansion of the previous year, but the Committee recognizes that the pace of economic growth is likely to be moderate for a time, and the unemployment rate will decline further. A range of economic and financial indicators, including indicators of inflation expectations, labor market conditions, and prices of energy and other commodities, are rising recently. The Committee continues to monitor inflation developments closely. In light of the current unemployment rate decline and labor market conditions improving, the Committee decided to postpone a decision on the pace of economic expansion until the unemployment rate has returned to levels that the Committee judges to be consistent with its dual mandate. The longer the current unemployment rate remains below 6-1/2 percent, the greater the probability that inflation will be held down by temporary factors over the medium term. The Committee will continue to monitor inflation developments carefully. In light of the current downturn, the Committee decided to postpone a decision on the size of the Federal Reserve's balance sheet until it had seen the extent of the damage done by a stronger economic recovery. The Committee will resume the reduction in the Federal Reserve's size program when the Committee has seen the economic outlook more broadly and is confident that this will do so. The Committee will continue to carefully monitor the economic outlook and financial developments in light of incoming information. The Committee also decided to wait until the unemployment rate is lower than the Committee believes it would be if labor market conditions were continuing at a moderate pace, and it took this time to assess the likely effects of lower inflation on inflation expectations and economic prospects.            Information received since the Federal Open Market Committee met in December suggests that economic activity has been expanding at a moderate pace, and labor market conditions have improved further. Household spending appears to be growing more quickly; the housing sector has shown more restraint. Business spending on equipment and software appears to have recovered from its high point. Homebuilding appears to be picking up, partly reflecting on earlier declines in energy prices, but remains constrained by low yields on longer-term Treasury securities. Financing conditions have become more\n",
      "\n",
      "[210 | 364.62] loss=0.61 avg=0.61\n",
      "[220 | 381.14] loss=0.11 avg=0.58\n",
      "[230 | 397.61] loss=0.12 avg=0.56\n",
      "[240 | 414.04] loss=0.41 avg=0.55\n",
      "[250 | 430.42] loss=0.15 avg=0.54\n",
      "[260 | 446.80] loss=0.10 avg=0.52\n",
      "[270 | 463.24] loss=0.36 avg=0.51\n",
      "[280 | 479.69] loss=0.27 avg=0.50\n",
      "[290 | 496.17] loss=0.06 avg=0.48\n",
      "[300 | 512.66] loss=0.23 avg=0.47\n",
      "[310 | 529.16] loss=0.35 avg=0.47\n",
      "[320 | 545.68] loss=0.37 avg=0.47\n",
      "[330 | 562.18] loss=0.29 avg=0.46\n",
      "[340 | 578.66] loss=0.13 avg=0.45\n",
      "[350 | 595.13] loss=0.28 avg=0.44\n",
      "[360 | 611.60] loss=0.11 avg=0.43\n",
      "[370 | 628.09] loss=0.05 avg=0.42\n",
      "[380 | 644.56] loss=0.20 avg=0.41\n",
      "[390 | 661.03] loss=0.11 avg=0.40\n",
      "[400 | 677.50] loss=0.16 avg=0.40\n",
      "======== SAMPLE 1 ========\n",
      " its own. However, the Committee judges that some inflation risks may persist. Recent information indicates that the expansion of aggregate demand is abating, partly reflecting a reversal of the temporary factors that had been holding down prices so far. Inflation seems likely to moderate in coming quarters, the Committee anticipates, but the Committee judges that the downside risks to growth remain. The Committee judges that there has been a substantial advance in productivity in recent years, and that inflation is running somewhat below 2 percent. Moreover, the Committee judges that inflation will settle, over coming quarters, at levels at or below those at the Committee's previous meeting's consensus, partly reflecting a reversal of the temporary factors that had been holding down prices. Nonetheless, the Committee judges that there remains a risk that inflation will settle, over coming quarters, at levels at or below those at the Committee's previous meeting's consensus, partly reflecting a reversal of the temporary factors that had been holding down prices. Nonetheless, the Committee judges that there remains a risk that inflation will settle, over coming quarters, at levels at or below those at the Committee's previous meeting's consensus, partly reflecting a reversal of the temporary factors that had been holding down prices. The Committee judges that there remains a risk that inflation will settle, over coming quarters, at levels at or below those at the Committee's previous meeting's consensus, partly reflecting a reversal of the temporary factors that had been holding down prices. Nonetheless, the Committee judges that there remains a risk that inflation will settle, over coming quarters, at levels at or below those at the Committee's previous meeting's consensus, partly reflecting a reversal of the temporary factors that had been holding down prices. The Committee judges that there remains a risk that inflation will settle, over coming quarters, at levels at or below those at the Committee's previous meeting's consensus, partly reflecting a reversal of the temporary factors that had been holding down prices.        The Federal Open Market Committee decided today to raise its target for the federal funds rate by 50 basis points to 5-1/2 percent. Recent information indicates that the expansion of aggregate demand is continuing to restrain price pressures. Inflation is rising, the Committee anticipates, but the Committee judges that the downside risks to growth have diminished appreciably since rising earlier in the year. The Committee expects inflation to moderate in coming quarters, but is keeping its target for the federal funds rate at 5-1/2 percent. The Committee will maintain the target range for the federal funds rate at 0 to 1/4 percent and continues to anticipate that economic conditions, including low rates of resource utilization, subdued inflation trends, and stable inflation expectations, are likely to warrant exceptionally low levels of the federal funds rate for an extended period. To provide support to mortgage lending and housing markets and to improve overall conditions in private credit markets, the Federal Reserve is in the process of purchasing $1.25 trillion of agency mortgage-backed and $1.25 trillion of agency debt. In addition, the Federal Reserve is in the process of buying $300 billion of Treasury securities. The Committee will continue to carefully monitor the size and composition of the Federal Reserve's balance sheet in light of evolving economic and financial developments.       The Federal Open Market Committee decided today to raise its target for the federal funds rate by 25 basis points to 6 percent. Recent information indicates that the growth of aggregate demand has continued to soften. Growth in household spending has strengthened, but remains constrained by high unemployment, modest inflation, and tight credit. Business spending on equipment and software has risen, but investment in structures is still contracting, and the housing sector remains depressed. Although exports of goods and services have continued to expand, investment in U.S. manufacturing has flattened out and exports are still slowing somewhat. Although the pace of economic recovery is likely to be moderate for a time, the Committee anticipates that inflation will rise, over coming quarters, to levels at or below those consistent with the Committee's dual mandate as the effects of past energy and other commodity price increases dissipate and the economy settles into more sustainable growth patterns. In light of increasing evidence of increasing productivity, the Committee expects that inflation will continue to moderate in coming quarters. The Committee also anticipates that inflation will settle, over coming quarters, at levels at or below those consistent with the Committee's dual mandate as the intensification of the housing correction wears off. The Committee will continue to carefully monitor inflation developments. To support a stronger economic recovery, the Committee today reaffirmed its view that the current 0 to 1/4 percent target range for the federal funds rate remains appropriate. The Committee anticipates that inflation will settle, over coming quarters, at levels at or below those consistent with the Committee's dual mandate as the intensification of the housing correction wears off. The Committee will continue to carefully monitor inflation developments. To support a stronger economic recovery, the Committee today reiterated its view that the current 0 to 1/4 percent target range for the federal funds rate remains appropriate. The Committee anticipates that inflation will settle, over coming quarters, at\n",
      "\n",
      "[410 | 715.92] loss=0.14 avg=0.39\n",
      "[420 | 732.29] loss=0.16 avg=0.38\n",
      "[430 | 748.65] loss=0.25 avg=0.38\n",
      "[440 | 765.06] loss=0.12 avg=0.37\n",
      "[450 | 781.52] loss=0.08 avg=0.36\n",
      "[460 | 798.03] loss=0.18 avg=0.36\n",
      "[470 | 814.46] loss=0.06 avg=0.35\n",
      "[480 | 830.95] loss=0.08 avg=0.34\n",
      "[490 | 847.42] loss=0.04 avg=0.33\n",
      "[500 | 863.88] loss=0.02 avg=0.33\n",
      "Saving checkpoint/run1/model-500\n",
      "[510 | 891.40] loss=0.07 avg=0.32\n",
      "[520 | 908.38] loss=0.17 avg=0.32\n",
      "[530 | 925.06] loss=0.09 avg=0.31\n",
      "[540 | 941.37] loss=0.11 avg=0.31\n",
      "[550 | 957.64] loss=0.12 avg=0.30\n",
      "[560 | 974.09] loss=0.10 avg=0.30\n",
      "[570 | 990.63] loss=0.16 avg=0.29\n",
      "[580 | 1007.14] loss=0.14 avg=0.29\n",
      "[590 | 1023.64] loss=0.17 avg=0.29\n",
      "[600 | 1040.11] loss=0.06 avg=0.28\n",
      "======== SAMPLE 1 ========\n",
      " slowing down economic growth and moving toward a more normal pace. The Committee's predominant policy concern remains the risk that inflation will fail to moderate as expected. Against the background of its long-term goals of price stability and sustainable economic growth and of the information currently available, the Committee believes the risks continue to be weighted mainly toward conditions that may generate heightened inflation pressures in the future. Nevertheless, the Committee will respond to changes in economic prospects as needed to foster these objectives.       The Federal Open Market Committee decided today to keep its target for the federal funds rate at 2 percent. Recent information indicates that output has been growing at a moderate pace despite the earlier rise in energy prices, and labor market conditions have improved further. The low level of inflation and ongoing improvement in labor market conditions have the Committee's attention. Although inflation in the near term will likely be held down by lower energy prices and other factors, the Committee judges that over the medium term the risks continue to be weighted mainly toward conditions that may generate heightened inflation pressures. The Committee will continue to monitor inflation developments closely. The Committee judges that there has been a significant improvement in the labor market since the beginning of the year and that inflation will likely moderate over time. However, the improvement in the labor market also contains significant unanticipated resource slack, which could foster inflationary imbalances that would undermine the economy's exemplary performance. To support a stronger economic recovery and to help ensure that inflation, over time, is at levels consistent with its mandate, the Committee decided today to continue its program to extend the average maturity of its holdings of securities as announced in November. In particular, the Committee is maintaining its existing policies of reinvesting principal payments from its holdings of agency debt and agency mortgage-backed securities in agency mortgage-backed securities and of rolling over maturing Treasury securities at auction. The Committee is maintaining its existing policy of rolling over maturing Treasury securities at auction. In addition, the Committee has authorized increases in its existing temporary reciprocal currency arrangements (swap lines) with the European Central Bank (ECB) and the Swiss National Bank (SNB). These arrangements will now provide dollars in amounts of up to $30 billion and $6 billion to the ECB and the SNB, respectively, representing increases of $10 billion and $2 billion. The Committee will continue to monitor the size and composition of its balance sheet in light of evolving economic and financial developments.        The Federal Open Market Committee decided today to continue its program to extend the average maturity of its holdings of securities as announced in November. In particular, the Committee is maintaining its existing policies of reinvesting principal payments from its holdings of agency debt and agency mortgage-backed securities in agency mortgage-backed securities and of rolling over maturing Treasury securities at auction. As announced in June, the Committee intends to purchase up to $30 billion of longer-term Treasury securities by the end of the second quarter of 2011. This program is expected to begin to reduce the Federal Reserve's securities holdings at a pace later than the earlier increases in the Committee's purchases of securities indicated by the data. The Committee will continue to evaluate the timing and overall amounts of its securities purchases in light of the evolving economic outlook and conditions in financial markets. The Federal Reserve will continue to monitor the size and composition of its balance sheet in light of financial and economic developments.        Information received since the Federal Open Market Committee met in January indicates that economic activity has been expanding moderately so far this year. Growth in household spending has moderated to a pace closer to the Committee's 2 percent objective. Business fixed investment has continued to grow strongly, while the recovery in the housing sector remains slow. Fiscal policy is restraining economic growth, although the extent of restraint is diminishing. Inflation has moved somewhat closer to the Committee's 2 percent longer-run objective. Market-based measures of inflation compensation have moved slightly lower; survey-based measures of longer-term inflation expectations have remained stable. Consistent with its statutory mandate, the Committee seeks to foster maximum employment and price stability. The Committee expects that, with appropriate policy accommodation, economic activity will expand at a moderate pace, with labor market indicators continuing to move toward levels the Committee judges consistent with its dual mandate. The Committee continues to see the risks to the outlook for economic activity and the labor market as nearly balanced. Inflation is anticipated to remain near its recent low level in the near term, but the Committee expects inflation to rise gradually toward 2 percent over the medium term as the labor market improves further and the transitory effects of lower energy prices and other factors dissipate. The Committee continues to monitor inflation developments closely. To support continued progress toward maximum employment and price stability, the Committee today reaffirmed its view that the current 2 percent target range for the federal funds rate remains appropriate. In determining how long to maintain this target range, the Committee will assess progress--both realized and expected--toward its objectives of maximum employment and 2 percent inflation. This assessment will take into account a wide range of information, including\n",
      "\n",
      "[610 | 1078.46] loss=0.26 avg=0.28\n",
      "[620 | 1094.84] loss=0.15 avg=0.28\n",
      "[630 | 1111.24] loss=0.11 avg=0.28\n",
      "[640 | 1127.60] loss=0.10 avg=0.27\n",
      "[650 | 1143.99] loss=0.11 avg=0.27\n",
      "[660 | 1160.40] loss=0.03 avg=0.26\n",
      "[670 | 1176.84] loss=0.05 avg=0.26\n",
      "[680 | 1193.29] loss=0.05 avg=0.25\n",
      "[690 | 1209.76] loss=0.03 avg=0.25\n",
      "[700 | 1226.25] loss=0.03 avg=0.25\n",
      "[710 | 1242.67] loss=0.05 avg=0.24\n",
      "[720 | 1259.10] loss=0.03 avg=0.24\n",
      "[730 | 1275.49] loss=0.05 avg=0.23\n",
      "[740 | 1291.91] loss=0.06 avg=0.23\n",
      "[750 | 1308.30] loss=0.04 avg=0.23\n",
      "[760 | 1324.66] loss=0.08 avg=0.22\n",
      "[770 | 1341.06] loss=0.09 avg=0.22\n",
      "[780 | 1357.44] loss=0.07 avg=0.22\n",
      "[790 | 1373.82] loss=0.05 avg=0.22\n",
      "[800 | 1390.21] loss=0.02 avg=0.21\n",
      "======== SAMPLE 1 ========\n",
      " in a context of price stability. Today's increase in the federal funds rate, together with the policy actions in June and August and the firming of conditions more generally in U.S. financial markets over the course of the year, should markedly diminish the risk of inflation going forward. As a consequence, the directive the Federal Open Market Committee adopted is symmetrical with regard to the outlook for policy over the near term. In taking the discount rate action, the Federal Reserve Board approved requests submitted by the Boards of Directors of the Federal Reserve Banks of Boston, Cleveland, Richmond and Kansas City. The discount rate is the interest rate that is charged depository institutions when they borrow from their district Federal Reserve Banks. The Federal Open Market Committee today voted to raise its target for the federal funds rate by 25 basis points to 6 percent. In a related action, the Board of Governors approved a 25 basis point increase in the discount rate to 5-1/2 percent. The Committee continues to believe that an accommodative stance of monetary policy, coupled with still-robust underlying growth in productivity, is providing important ongoing support to economic activity. Against the background of its long-run goals of price stability and sustainable economic growth and of the information currently available, the risks are weighted mainly toward conditions that may generate economic weakness in the foreseeable future. In taking the discount rate action, the Federal Reserve Board approved requests submitted by the Boards of Directors of the Federal Reserve Banks of Boston, Cleveland, Richmond and Kansas City. The discount rate is the interest rate that is charged depository institutions when they borrow from their district Federal Reserve Banks. The Committee continues to believe that an accommodative stance of monetary policy, coupled with still-robust underlying growth in productivity, is providing important ongoing support to economic activity. Against the background of its long-run goals of price stability and sustainable economic growth and of the information currently available, the risks are weighted mainly toward conditions that may generate economic weakness in the foreseeable future. In taking the discount rate action, the Federal Reserve Board approved requests submitted by the Boards of Directors of the Federal Reserve Banks of Boston, Cleveland, Richmond and Kansas City. The discount rate is the interest rate that is charged depository institutions when they borrow from their district Federal Reserve Banks. Against the background of its long-run goals of price stability and sustainable economic growth and of the information currently available, the risks are weighted mainly toward conditions that may generate economic weakness in the foreseeable future.           The Federal Open Market Committee decided today to keep its target federal funds rate at 5-1/4 percent. The information that has become available since the last meeting of the Committee clearly indicates that economic activity is continuing to pick up. However, weakness in demand shows signs of abating and financial markets remain under considerable stress. In these circumstances, the Committee believes that, for the foreseeable future, against the background of its long-run goals of price stability and sustainable economic growth and of the information currently available, the risks are balanced with respect to the prospects for both goals. The Committee continues to believe that, for the foreseeable future, against the background of its long-run goals of price stability and sustainable economic growth and of the information currently available, the risks are balanced with respect to the prospects for both goals.        The Federal Open Market Committee decided today to keep its target federal funds rate at 5 percent. The information that has become available since the last meeting of the Committee clearly shows that economic activity is continuing to expand. However, weakness in demand shows signs of abating and financial markets remain under considerable stress. In these circumstances, the Committee believes that, for the foreseeable future, against the background of its long-run goals of price stability and sustainable economic growth and of the information currently available, the risks are balanced with respect to the prospects for both goals. The Committee continues to believe that, for the foreseeable future, against the background of its long-run goals of price stability and sustainable economic growth and of the information currently available, the risks are balanced with respect to the prospects for both goals.         The Federal Open Market Committee decided today to keep its target federal funds rate at 5 percent. Strength in demand appears to be abating, and the catch-up in inventory investment appears to be proceeding at a moderate pace. However, protracted weakness in demand will continue to be followed by weaker economic growth, which could foster inflationary imbalances that would undermine the economy's record economic expansion. Against the background of its long-run goals of price stability and sustainable economic growth and of the information currently available, the Committee believes the risks are weighted mainly toward conditions that may generate economic weakness in the foreseeable future. Nevertheless, the Committee will respond to changes in economic prospects as needed to foster sustainable economic growth and price stability.          The Federal Open Market Committee decided today to keep its target federal funds rate at 5 percent. Economic growth slowed in the first part of this year compared with a stronger performance overall\n",
      "\n",
      "[810 | 1429.03] loss=0.04 avg=0.21\n",
      "[820 | 1445.36] loss=0.03 avg=0.21\n",
      "[830 | 1461.86] loss=0.09 avg=0.20\n",
      "[840 | 1478.37] loss=0.04 avg=0.20\n",
      "[850 | 1494.82] loss=0.06 avg=0.20\n",
      "[860 | 1511.19] loss=0.08 avg=0.20\n",
      "[870 | 1527.59] loss=0.04 avg=0.19\n",
      "[880 | 1544.05] loss=0.05 avg=0.19\n",
      "[890 | 1560.53] loss=0.04 avg=0.19\n",
      "[900 | 1577.03] loss=0.04 avg=0.19\n",
      "[910 | 1593.57] loss=0.10 avg=0.19\n",
      "[920 | 1610.08] loss=0.06 avg=0.18\n",
      "[930 | 1626.49] loss=0.08 avg=0.18\n",
      "[940 | 1642.88] loss=0.12 avg=0.18\n",
      "[950 | 1659.25] loss=0.11 avg=0.18\n",
      "[960 | 1675.61] loss=0.04 avg=0.18\n",
      "[970 | 1692.02] loss=0.05 avg=0.17\n",
      "[980 | 1708.49] loss=0.03 avg=0.17\n",
      "[990 | 1725.01] loss=0.05 avg=0.17\n",
      "[1000 | 1741.50] loss=0.06 avg=0.17\n",
      "Saving checkpoint/run1/model-1000\n"
     ]
    },
    {
     "name": "stderr",
     "output_type": "stream",
     "text": [
      "W0726 16:34:07.816024 139940845504384 deprecation.py:323] From /usr/local/lib/python3.6/dist-packages/tensorflow/python/training/saver.py:960: remove_checkpoint (from tensorflow.python.training.checkpoint_management) is deprecated and will be removed in a future version.\n",
      "Instructions for updating:\n",
      "Use standard file APIs to delete files with this prefix.\n"
     ]
    },
    {
     "name": "stdout",
     "output_type": "stream",
     "text": [
      "======== SAMPLE 1 ========\n",
      " objective range of policy actions that would lead to a gradual resumption of sustainable economic growth and to mitigate the risks to growth and price stability. In taking the discount rate action, the Federal Reserve Board approved requests submitted by the Boards of Directors of all twelve Reserve Banks. The Federal Open Market Committee at its meeting today decided to lower its target for the federal funds rate by 50 basis points to 5-1/2 percent. In a related action, the Board of Governors approved a 50 basis point reduction in the discount rate to 5 percent. The Federal Reserve will continue to supply unusually large volumes of liquidity to the financial markets, as needed, until more normal market functioning is restored. As a consequence, the FOMC recognizes that the actual federal funds rate may be below its target on several occasions in the past. The Federal Open Market Committee at its meeting today decided to lower its target for the federal funds rate by 50 basis points to 5-1/2 percent. In a related action, the Board of Governors approved a 50 basis point reduction in the discount rate to 5 percent. Although the actions announced today supplement the measures initiated earlier this year to cushion the impact on prospective economic growth in excess of productivity gains, the Committee remains concerned that over time increases in demand will continue to exceed the growth in potential supply, even after taking account of the pronounced rise in productivity growth. Such trends could foster inflationary imbalances that would undermine the economy's record economic expansion. In these circumstances, the Committee believes that they can address the threat of inflation by providing support to economic growth at a moderate pace, in the context of a rapidly evolving global economy. In taking the discount rate action, the Federal Reserve Board approved requests submitted by the Boards of Directors of all twelve Reserve Banks. The Federal Open Market Committee at its meeting today decided to lower its target for the federal funds rate by 50 basis points to 5-1/2 percent. In a related action, the Board of Governors approved a 50 basis point reduction in the discount rate to 5 percent. Although the actions announced today supplement the measures initiated earlier this year to cushion the impact on prospective economic growth in excess of productivity gains, the Committee remains concerned that over time increases in demand will continue to exceed the growth in potential supply, even after taking account of the pronounced rise in productivity growth. Such trends could foster inflationary imbalances that would undermine the economy's record economic expansion. In these circumstances, the Committee believes that they can provide support to an economy at a moderate pace, in the context of a rapidly evolving global economy. In taking the discount rate action, the Federal Reserve Board approved requests submitted by the Boards of Directors of all twelve Reserve Banks. The Federal Open Market Committee at its meeting today decided to lower its target for the federal funds rate by 50 basis points to 5-1/2 percent. In a related action, the Board of Governors approved a 50 basis point reduction in the discount rate to 5 percent. Although the actions announced today supplement the measures initiated earlier this year to cushion the impact on prospective economic growth in excess of productivity gains, the Committee remains concerned that over time increases in demand will continue to exceed the growth in potential supply, even after taking account of the pronounced rise in productivity growth. Such trends could foster inflationary imbalances that would undermine the economy's record economic expansion. In these circumstances, the Committee believes that they can provide support to an economy at a moderate pace, in the context of a rapidly evolving global economy. In taking the discount rate action, the Federal Reserve Board approved requests submitted by the Boards of Directors of all twelve Reserve Banks. The discount rate is the interest rate that is charged depository institutions when they borrow from their district Federal Reserve Banks. The Federal Open Market Committee at its meeting today decided to lower its target for the federal funds rate by 50 basis points to 5-1/2 percent. In a related action, the Board of Governors approved a 50 basis point reduction in the discount rate to 5 percent. Although the actions announced today supplement the measures initiated earlier this year to cushion the impact on prospective economic growth in excess of productivity gains, the Committee remains concerned that over time increases in demand will continue to exceed the growth in potential supply, even after taking account of the pronounced rise in productivity growth. Such trends could foster inflationary imbalances that would undermine the economy's record economic expansion. In these circumstances, the Committee believes that they can provide support to an economy at a moderate pace, in the context of a rapidly changing global economy. In taking the discount rate action, the Federal Reserve Board approved requests submitted by the Boards of Directors of the Federal Open Market Committee at its meeting today decided to lower its target for the federal funds rate by 50 basis points to 5-1/2 percent. In a related action, the Board of Governors approved a 50 basis point reduction in the discount rate to 5 percent. Although the actions announced today supplement the measures initiated earlier this year to cushion the impact on prospective economic growth in excess of productivity gains, the Committee remains concerned that over time increases in demand will continue to exceed\n",
      "\n",
      "[1010 | 1791.51] loss=0.08 avg=0.17\n",
      "[1020 | 1807.83] loss=0.09 avg=0.17\n",
      "[1030 | 1824.11] loss=0.06 avg=0.16\n",
      "[1040 | 1840.47] loss=0.05 avg=0.16\n",
      "[1050 | 1856.99] loss=0.06 avg=0.16\n",
      "[1060 | 1873.48] loss=0.05 avg=0.16\n",
      "[1070 | 1889.95] loss=0.05 avg=0.16\n",
      "[1080 | 1906.40] loss=0.14 avg=0.16\n",
      "[1090 | 1922.82] loss=0.04 avg=0.16\n",
      "[1100 | 1939.18] loss=0.05 avg=0.15\n",
      "[1110 | 1955.50] loss=0.07 avg=0.15\n",
      "[1120 | 1971.92] loss=0.05 avg=0.15\n",
      "[1130 | 1988.34] loss=0.02 avg=0.15\n",
      "[1140 | 2004.78] loss=0.05 avg=0.15\n",
      "[1150 | 2021.23] loss=0.02 avg=0.15\n",
      "[1160 | 2037.71] loss=0.03 avg=0.14\n",
      "[1170 | 2054.21] loss=0.02 avg=0.14\n",
      "[1180 | 2070.68] loss=0.09 avg=0.14\n",
      "[1190 | 2087.12] loss=0.06 avg=0.14\n",
      "[1200 | 2103.59] loss=0.05 avg=0.14\n",
      "======== SAMPLE 1 ========\n",
      " its energy and other commodity prices tumbling, and the upside and downside risks to the attainment of both goals becoming more clearly evident. Inflation and inflation expectations remain well contained. The Committee perceives that, with appropriate monetary policy remaining in the pipeline, the upside and downside risks to the attainment of both goals remain roughly equal. With underlying inflation expected to be contained, the Committee believes that policy accommodation can be removed at a pace that is likely to be measured. Nonetheless, the Committee will respond to changes in economic prospects as needed to fulfill its obligation to maintain price stability.       The Federal Open Market Committee decided today to raise its target for the federal funds rate by 25 basis points to 3 1/4 percent. The Committee believes that, even after this action, the stance of monetary policy remains accommodative and, coupled with robust underlying growth in productivity, is providing ongoing support to economic activity. Recent data suggest that the solid pace of spending growth has slowed somewhat, partly in response to the earlier increases in energy prices. Labor market conditions, however, apparently continue to improve gradually. Pressures on inflation have picked up in recent months and pricing power is more evident. Longer-term inflation expectations remain well contained. The Committee perceives that, with appropriate monetary policy remaining in the pipeline, the upside and downside risks to the attainment of both goals remain roughly equal. With underlying inflation expected to be contained, the Committee believes that policy accommodation can be removed at a pace that is likely to be measured. Nonetheless, the Committee will respond to changes in economic prospects as needed to fulfill its obligation to maintain price stability.       The Federal Open Market Committee decided today to raise its target for the federal funds rate by 25 basis points to 3-1/4 percent. The Committee believes that, even after this action, the stance of monetary policy remains accommodative and, coupled with robust underlying growth in productivity, is providing ongoing support to economic activity. Although energy prices have risen further, the expansion remains firm and labor market conditions continue to improve gradually. Pressures on inflation have stayed elevated, but longer-term inflation expectations remain well contained. The Committee perceives that, with appropriate monetary policy remaining in the pipeline, the upside and downside risks to the attainment of both goals remain roughly equal. With underlying inflation expected to be contained, the Committee believes that policy accommodation can be removed at a pace that is likely to be measured. Nonetheless, the Committee will respond to changes in economic prospects as needed to fulfill its obligation to maintain price stability.       The Federal Open Market Committee decided today to raise its target for the federal funds rate by 25 basis points to 3-1/2 percent. The Committee believes that, even after this action, the stance of monetary policy remains accommodative and, coupled with robust underlying growth in productivity, is providing ongoing support to economic activity. Aggregate spending, despite high energy prices, appears to have strengthened since late winter, and labor market conditions continue to improve gradually. Core inflation has been relatively low in recent months and longer-term inflation expectations remain well contained, but pressures on inflation have stayed elevated. The Committee perceives that, with appropriate monetary policy remaining in the pipeline, the upside and downside risks to the attainment of both goals remain roughly equal. With underlying inflation expected to be contained, the Committee believes that policy accommodation can be removed at a pace that is likely to be measured. Nonetheless, the Committee will respond to changes in economic prospects as needed to fulfill its obligation to maintain price stability.       The Federal Open Market Committee decided today to raise its target for the federal funds rate by 25 basis points to 3-3/4 percent. Output appeared poised to continue growing at a good pace before the tragic toll of Hurricane Katrina. The widespread devastation in the Gulf region, the associated dislocation of economic activity, and the boost to energy prices imply that spending, production, and employment will be set back in the near term. In addition to elevating premiums for some energy products, the disruption to the production and refining infrastructure may add to energy price volatility. While these unfortunate developments have increased uncertainty about near-term economic performance, it is the Committee's view that they do not pose a more persistent threat. Rather, monetary policy accommodation, coupled with robust underlying growth in productivity, is providing ongoing support to economic activity. Higher energy and other costs have the potential to add to inflation pressures. However, core inflation has been relatively low in recent months and longer-term inflation expectations remain contained. The Committee perceives that, with appropriate monetary policy remaining in the pipeline, the upside and downside risks to the attainment of both goals remain roughly equal. With underlying inflation expected to be contained, the Committee believes that policy accommodation can be removed at a pace that is likely to be measured. Nonetheless, the Committee will respond to changes in economic prospects as needed to fulfill its obligation to maintain price stability.      The Federal Open Market Committee decided today to raise its target for the federal funds rate by 25 basis points to 4\n",
      "\n",
      "[1210 | 2141.86] loss=0.04 avg=0.14\n",
      "[1220 | 2158.26] loss=0.05 avg=0.14\n",
      "[1230 | 2174.70] loss=0.05 avg=0.14\n",
      "[1240 | 2191.12] loss=0.04 avg=0.13\n",
      "[1250 | 2207.57] loss=0.07 avg=0.13\n",
      "[1260 | 2224.07] loss=0.06 avg=0.13\n",
      "[1270 | 2240.57] loss=0.07 avg=0.13\n",
      "[1280 | 2257.08] loss=0.02 avg=0.13\n",
      "[1290 | 2273.57] loss=0.07 avg=0.13\n",
      "[1300 | 2290.07] loss=0.04 avg=0.13\n",
      "[1310 | 2306.55] loss=0.02 avg=0.13\n",
      "[1320 | 2322.98] loss=0.05 avg=0.13\n",
      "[1330 | 2339.43] loss=0.04 avg=0.12\n",
      "[1340 | 2355.89] loss=0.05 avg=0.12\n",
      "[1350 | 2372.31] loss=0.05 avg=0.12\n",
      "[1360 | 2388.73] loss=0.05 avg=0.12\n",
      "[1370 | 2405.14] loss=0.03 avg=0.12\n",
      "[1380 | 2421.56] loss=0.07 avg=0.12\n",
      "[1390 | 2437.98] loss=0.05 avg=0.12\n",
      "[1400 | 2454.40] loss=0.03 avg=0.12\n",
      "======== SAMPLE 1 ========\n",
      " markets. However, global economic and financial developments continue to pose risks. Against this backdrop, the Committee continues to believe that, against the background of its long-run goals of price stability and sustainable economic growth and of the information currently available, the risks are weighted mainly toward conditions that may generate heightened inflation pressures in the foreseeable future. In taking the discount rate action, the Federal Reserve Board approved requests submitted by the Boards of Directors of the Federal Reserve Banks of Boston, New York, Philadelphia, Cleveland, Richmond, Atlanta, Chicago, St. Louis, Kansas City and San Francisco. The discount rate is the rate charged depository institutions when they borrow short-term adjustment credit from their district Federal Reserve Banks. The Federal Open Market Committee at its meeting today decided to maintain the existing stance of monetary policy, keeping its target for the federal funds rate at 6-1/2 percent. The utilization of the pool of available workers remains at an unusually high level, and the increase in energy prices, though having limited effect on core measures of prices to date, still harbors the possibility of raising inflation expectations. The Committee, accordingly, continues to see a risk of heightened inflation pressures. However, softening in business and household demand and tightening conditions in financial markets over recent months suggest that the economy could expand for a time at a pace below the productivity-enhanced rate of growth of its potential to produce. Nonetheless, to date the easing of demand pressures has not been sufficient to warrant a change in the Committee's judgment that against the background of its long-run goals of price stability and sustainable economic growth and of the information currently available, the risks continue to be weighted mainly toward conditions that may generate heightened inflation pressures in the foreseeable future. The Federal Open Market Committee at its meeting today decided to maintain the existing stance of monetary policy, keeping its target for the federal funds rate at 6-1/2 percent. The utilization of the pool of available workers remains at an unusually high level, and the increase in energy prices, though having limited effect on core measures of prices to date, still harbors the possibility of raising inflation expectations. The Committee, accordingly, continues to see a risk of heightened inflation pressures. However, softening in business and household demand and tightening conditions in financial markets over recent months suggest that the economy could expand for a time at a pace below the productivity-enhanced rate of growth of its potential to produce. Nonetheless, to date the easing of demand pressures has not been sufficient to warrant a change in the Committee's judgment that against the background of its long-run goals of price stability and sustainable economic growth and of the information currently available, the risks continue to be weighted mainly toward conditions that may generate heightened inflation pressures in the foreseeable future. The Federal Open Market Committee at its meeting today decided to maintain the existing stance of monetary policy, keeping its target for the federal funds rate at 6-1/2 percent. The utilization of the pool of available workers remains at an unusually high level, and the increase in energy prices, though having limited effect on core measures of prices to date, still harbors the possibility of raising inflation expectations. The Committee, accordingly, continues to see a risk of heightened inflation pressures. However, softening in business and household demand and tightening conditions in financial markets over recent months suggest that the economy could expand for a time at a pace below the productivity-enhanced rate of growth of its potential to produce. Nonetheless, to date the easing of demand pressures has not been sufficient to warrant a change in the Committee's judgment that against the background of its long-run goals of price stability and sustainable economic growth and of the information currently available, the risks continue to be weighted mainly toward conditions that may generate heightened inflation pressures in the foreseeable future. The drag on demand and profits from rising energy costs, as well as eroding consumer confidence, report some initial signs of abating. Nonetheless, to date the easing of demand pressures has not been sufficient to warrant a change in the Committee's judgment that against the background of its long-run goals of price stability and sustainable economic growth and of the information currently available, the risks continue to be weighted mainly toward conditions that may generate heightened inflation pressures in the foreseeable future. Against the background of its long-run goals of price stability and sustainable economic growth and of the information currently available, the Committee consequently believes that the risks continue to be weighted mainly toward conditions that may generate heightened inflation pressures in the foreseeable future. The drag on demand and profits from rising energy costs, as well as eroding consumer confidence, report some initial signs of abating. Nonetheless, to date the easing of demand pressures has not been sufficient to warrant a change in the Committee's judgment that against the background of its long-run goals of price stability and sustainable economic growth and of the information currently available, the risks continue to be weighted mainly toward conditions that may generate heightened inflation pressures in the foreseeable future. Against the background of its long-run goals of price stability and sustainable economic growth and of the information currently available, the Committee consequently believes that the risks continue to be weighted\n",
      "\n",
      "[1410 | 2492.72] loss=0.07 avg=0.12\n",
      "[1420 | 2509.08] loss=0.06 avg=0.12\n",
      "[1430 | 2525.48] loss=0.09 avg=0.12\n",
      "[1440 | 2541.91] loss=0.05 avg=0.11\n",
      "[1450 | 2558.32] loss=0.03 avg=0.11\n",
      "[1460 | 2574.79] loss=0.02 avg=0.11\n",
      "[1470 | 2591.26] loss=0.03 avg=0.11\n",
      "[1480 | 2607.73] loss=0.05 avg=0.11\n",
      "[1490 | 2624.17] loss=0.05 avg=0.11\n",
      "[1500 | 2640.64] loss=0.04 avg=0.11\n",
      "Saving checkpoint/run1/model-1500\n",
      "[1510 | 2667.72] loss=0.04 avg=0.11\n",
      "[1520 | 2684.71] loss=0.03 avg=0.11\n",
      "[1530 | 2701.33] loss=0.03 avg=0.11\n",
      "[1540 | 2717.67] loss=0.02 avg=0.10\n",
      "[1550 | 2733.94] loss=0.04 avg=0.10\n",
      "[1560 | 2750.28] loss=0.03 avg=0.10\n",
      "[1570 | 2766.78] loss=0.05 avg=0.10\n",
      "[1580 | 2783.28] loss=0.04 avg=0.10\n",
      "[1590 | 2799.74] loss=0.03 avg=0.10\n",
      "[1600 | 2816.13] loss=0.05 avg=0.10\n",
      "======== SAMPLE 1 ========\n",
      " appears to have moderated. Labor market indicators generally showed further improvement. Household spending appears to be rising moderately; recent declines in energy prices have boosted household purchasing power by 25 points. Business fixed investment has continued to advance, while the recovery in the housing sector remains slow. Inflation has declined further below the Committee's longer-run objective, largely reflecting declines in energy prices. Market-based measures of inflation compensation remain low; survey-based measures of longer-term inflation expectations have remained stable. Consistent with its statutory mandate, the Committee seeks to foster maximum employment and price stability. The Committee expects that, with appropriate policy accommodation, economic activity will expand at a moderate pace and labor market conditions will strengthen somewhat further. Inflation is expected to remain low in the near term, in part because of earlier declines in energy prices, but to rise to 2 percent over the medium term as the transitory effects of past declines in energy and import prices dissipate and the labor market strengthens further. Near-term risks to the economic outlook appear roughly balanced. The Committee continues to closely monitor inflation indicators and global economic and financial developments. Against this backdrop, the Committee decided to maintain the target range for the federal funds rate at 1/4 to 1/2 percent. The Committee judges that the case for an increase in the federal funds rate has strengthened but decided, for the time being, to wait for further evidence of continued progress toward its objectives. The stance of monetary policy remains highly accommodative, thereby supporting further improvement in labor market conditions and a return to 2 percent inflation. In determining the timing and size of future adjustments to the target range for the federal funds rate, the Committee will assess realized and expected economic conditions relative to its objectives of maximum employment and 2 percent inflation. This assessment will take into account a wide range of information, including measures of labor market conditions, indicators of inflation pressures and inflation expectations, and readings on financial and international developments. In light of the current shortfall of inflation from 2 percent, the Committee will carefully monitor actual and expected progress toward its inflation goal. The Committee expects that economic conditions will evolve in a manner that will warrant only gradual increases in the federal funds rate; the federal funds rate is likely to remain, for some time, below levels that are expected to prevail in the longer run. However, the actual path of the federal funds rate will depend on the economic outlook as informed by incoming data. The Committee is maintaining its existing policy of reinvesting principal payments from its holdings of agency debt and agency mortgage-backed securities in agency mortgage-backed securities and of rolling over maturing Treasury securities at auction, and it anticipates doing so until normalization of the level of the federal funds rate is well under way. This policy, by keeping the Committee's holdings of longer-term securities at sizable levels, should help maintain accommodative financial conditions.       Information received since the Federal Open Market Committee met in March indicates that labor market conditions have improved further even the improvement in the consensus of economists announced in February. Household spending has continued to show signs of stabilizing but remains constrained by ongoing job losses, lower housing wealth, and tight credit. Business fixed investment has continued to advance, while the recovery in the housing sector remains slow and export growth has weakened. Inflation has continued to run below the Committee's 2 percent longer-run objective, partly reflecting earlier declines in energy prices and falling prices of non-energy imports. Market-based measures of inflation compensation remain low; survey-based measures of longer-term inflation expectations have remained stable. Consistent with its statutory mandate, the Committee seeks to foster maximum employment and price stability. The Committee currently expects that, with gradual adjustments in the stance of monetary policy, economic activity will expand at a moderate pace and labor market conditions will strengthen somewhat further. Inflation is expected to remain low in the near term, in part because of earlier declines in energy prices, but to rise to 2 percent over the medium term as the transitory effects of past declines in energy and import prices dissipate and the labor market strengthens further. Near-term risks to the economic outlook appear roughly balanced. The Committee continues to closely monitor inflation indicators and global economic and financial developments. Against this backdrop, the Committee decided to maintain the target range for the federal funds rate at 1/4 to 1/2 percent. The Committee judges that the case for an increase in the federal funds rate has continued to strengthen but decided, for the time being, to wait for some further evidence of continued progress toward its objectives. The stance of monetary policy remains highly accommodative, thereby supporting further improvement in labor market conditions and a return to 2 percent inflation. In determining the timing and size of future adjustments to the target range for the federal funds rate, the Committee will assess realized and expected economic conditions relative to its objectives of maximum employment and 2 percent inflation. This assessment will take into account a wide range of information, including measures of labor market conditions, indicators of inflation pressures and inflation expectations, and readings on financial and international developments. In light of the current shortfall of inflation\n",
      "\n",
      "[1610 | 2854.34] loss=0.02 avg=0.10\n",
      "[1620 | 2870.68] loss=0.02 avg=0.10\n",
      "[1630 | 2887.10] loss=0.04 avg=0.10\n",
      "[1640 | 2903.56] loss=0.05 avg=0.10\n",
      "[1650 | 2920.02] loss=0.04 avg=0.10\n",
      "[1660 | 2936.39] loss=0.06 avg=0.10\n",
      "[1670 | 2952.73] loss=0.07 avg=0.09\n",
      "[1680 | 2969.10] loss=0.03 avg=0.09\n",
      "[1690 | 2985.43] loss=0.03 avg=0.09\n",
      "[1700 | 3001.81] loss=0.02 avg=0.09\n",
      "[1710 | 3018.26] loss=0.04 avg=0.09\n",
      "[1720 | 3034.77] loss=0.03 avg=0.09\n",
      "[1730 | 3051.19] loss=0.05 avg=0.09\n",
      "[1740 | 3067.60] loss=0.02 avg=0.09\n",
      "[1750 | 3084.01] loss=0.04 avg=0.09\n",
      "[1760 | 3100.41] loss=0.06 avg=0.09\n",
      "[1770 | 3116.82] loss=0.03 avg=0.09\n",
      "[1780 | 3133.22] loss=0.02 avg=0.09\n",
      "[1790 | 3149.63] loss=0.02 avg=0.09\n",
      "[1800 | 3166.03] loss=0.05 avg=0.09\n",
      "======== SAMPLE 1 ========\n",
      " making prices of energy and other commodities high, and thereby fostering a climate that is likely to be sticky. Against the background of its long-term goals of price stability and sustainable economic growth, the Committee believes the risks continue to be weighted mainly toward conditions that may generate heightened inflation pressures in the future. The Federal Open Market Committee at its meeting today decided to maintain the existing stance of monetary policy, keeping its target for the federal funds rate at 6-1/2 percent. Recent readings on production and employment, though mostly reflecting decisions made before the conclusion of hostilities, have proven disappointing. However, the ebbing of geopolitical tensions has rolled back oil prices, bolstered consumer confidence, and strengthened debt and equity markets. These developments, along with the lower interest rates and greater flexibility of credit markets, should foster an improving economic climate over time. Although the timing and extent of that improvement remain uncertain, the Committee perceives that over the next few quarters the upside and downside risks to the attainment of sustainable growth are roughly equal. In contrast, over the same period, the probability of an unwelcome substantial fall in inflation, though minor, exceeds that of a pickup in inflation from its already low level. The Committee believes that, taken together, the balance of risks to achieving its goals is weighted toward weakness over the foreseeable future. Voting for the FOMC monetary policy action were Alan Greenspan, Chairman; William J. McDonough, Vice Chairman; Ben S. Bernanke, Susan S. Bies; Roger W. Ferguson, Jr.; Edward M. Gramlich; Jerry L. Jordan; Donald L. Kohn, Robert D. McTeer, Jr.; Mark W. Olson; Anthony M. Santomero, and Gary H. Stern.        The Federal Open Market Committee decided today to keep its target for the federal funds rate at 6-1/2 percent. Recent readings on production and employment, though mostly reflecting decisions made before the conclusion of hostilities, have proven disappointing. However, the ebbing of geopolitical tensions has rolled back oil prices, bolstered consumer confidence, and strengthened debt and equity markets. These developments, along with the lower interest rates and greater flexibility of credit markets, should foster an improving economic climate over time. Although the timing and extent of that improvement remain uncertain, the Committee perceives that over the next few quarters the upside and downside risks to the attainment of sustainable growth are roughly equal. In contrast, over the same period, the probability of an unwelcome fall in inflation, though minor, exceeds that of a rise in inflation from its already low level. The Committee believes that, taken together, the balance of risks to achieving its goals is weighted toward weakness over the foreseeable future. Voting for the FOMC monetary policy action were Alan Greenspan, Chairman; William J. McDonough, Vice Chairman; Ben S. Bernanke, Susan S. Bies; J. Alfred Broaddus, Jr.; Roger W. Ferguson, Jr.; Edward M. Gramlich; Jack Guynn; Donald L. Kohn; Michael H. Moskow; Mark W. Olson, and Robert T. Parry.        The Federal Open Market Committee decided today to keep its target for the federal funds rate at 6-1/2 percent. Economic activity appears to have been picking up after the severe downturn. However, labor market conditions have improved modestly in recent months. Financial markets have become more supportive of small business concerns. Although the economic outlook is likely to remain weak for a time, the Committee perceives that the upside and downside risks to the attainment of sustainable growth are roughly equal. In contrast, the probability, though minor, of an unwelcome fall in inflation exceeds that of a rise in inflation from its already low level. The Committee judges that, on balance, the risk of inflation becoming undesirably low is likely to be the predominant concern for the foreseeable future. In these circumstances, the Committee believes that policy accommodation can be maintained for a considerable period.       The Federal Open Market Committee decided today to keep its target for the federal funds rate at 6-1/2 percent. Strains in financial markets have increased significantly and labor market conditions have improved. Economic growth appears to have slowed recently, partly reflecting a softening of household spending. Tight housing conditions, the ongoing recession, and some slowing in export growth are likely to weigh on economic growth over the next few quarters. Over time, the substantial easing of monetary policy, combined with ongoing measures to foster market liquidity, should help to promote moderate economic growth. Inflation has been high, spurred by the earlier increases in the prices of energy and some other commodities, and some indicators of inflation expectations have been notably low. Others have been stable. The Committee expects inflation to pick up over coming quarters, but it will be necessary to continue to monitor inflation developments carefully. The substantial easing of monetary policy, combined with ongoing measures to foster market liquidity, should help to promote moderate economic growth. Inflation has been high, spurred by the\n",
      "\n",
      "[1810 | 3204.37] loss=0.04 avg=0.09\n",
      "[1820 | 3220.74] loss=0.04 avg=0.08\n",
      "[1830 | 3237.13] loss=0.06 avg=0.08\n",
      "[1840 | 3253.53] loss=0.03 avg=0.08\n",
      "[1850 | 3269.92] loss=0.02 avg=0.08\n",
      "[1860 | 3286.33] loss=0.02 avg=0.08\n",
      "[1870 | 3302.75] loss=0.05 avg=0.08\n",
      "[1880 | 3319.11] loss=0.02 avg=0.08\n",
      "[1890 | 3335.52] loss=0.03 avg=0.08\n",
      "[1900 | 3351.95] loss=0.05 avg=0.08\n",
      "[1910 | 3368.36] loss=0.07 avg=0.08\n",
      "[1920 | 3384.72] loss=0.02 avg=0.08\n",
      "[1930 | 3401.13] loss=0.03 avg=0.08\n",
      "[1940 | 3417.51] loss=0.03 avg=0.08\n",
      "[1950 | 3433.91] loss=0.03 avg=0.08\n",
      "[1960 | 3450.31] loss=0.05 avg=0.08\n",
      "[1970 | 3466.73] loss=0.13 avg=0.08\n",
      "[1980 | 3483.11] loss=0.03 avg=0.08\n",
      "[1990 | 3499.50] loss=0.03 avg=0.08\n",
      "[2000 | 3515.92] loss=0.04 avg=0.08\n",
      "Saving checkpoint/run1/model-2000\n"
     ]
    }
   ],
   "source": [
    "sess = gpt2.start_tf_sess()\n",
    "\n",
    "gpt2.finetune(sess,\n",
    "              dataset=file_name,\n",
    "              model_name='345M',\n",
    "              steps=2000,\n",
    "              restore_from='fresh',\n",
    "              run_name='run1',\n",
    "              print_every=10,\n",
    "              sample_every=200,\n",
    "              save_every=500\n",
    "              )"
   ]
  },
  {
   "cell_type": "code",
   "execution_count": 0,
   "metadata": {
    "colab": {},
    "colab_type": "code",
    "id": "VHdTL8NDbAh3"
   },
   "outputs": [],
   "source": [
    "gpt2.copy_checkpoint_to_gdrive(run_name='run1')"
   ]
  },
  {
   "cell_type": "code",
   "execution_count": 0,
   "metadata": {
    "colab": {},
    "colab_type": "code",
    "id": "DCcx5u7sbPTD"
   },
   "outputs": [],
   "source": [
    "gpt2.copy_checkpoint_from_gdrive(run_name='run1')"
   ]
  },
  {
   "cell_type": "code",
   "execution_count": 2,
   "metadata": {
    "colab": {
     "base_uri": "https://localhost:8080/",
     "height": 279
    },
    "colab_type": "code",
    "id": "-fxL77nvAMAX",
    "outputId": "ab78b0bc-b74c-413c-ed6b-1b0d8607958f"
   },
   "outputs": [
    {
     "name": "stderr",
     "output_type": "stream",
     "text": [
      "W0726 17:07:20.265665 140704285669248 deprecation_wrapper.py:119] From /usr/local/lib/python3.6/dist-packages/gpt_2_simple/gpt_2.py:90: The name tf.ConfigProto is deprecated. Please use tf.compat.v1.ConfigProto instead.\n",
      "\n",
      "W0726 17:07:20.267801 140704285669248 deprecation_wrapper.py:119] From /usr/local/lib/python3.6/dist-packages/gpt_2_simple/gpt_2.py:100: The name tf.Session is deprecated. Please use tf.compat.v1.Session instead.\n",
      "\n",
      "W0726 17:07:20.535051 140704285669248 deprecation_wrapper.py:119] From /usr/local/lib/python3.6/dist-packages/gpt_2_simple/gpt_2.py:340: The name tf.placeholder is deprecated. Please use tf.compat.v1.placeholder instead.\n",
      "\n",
      "W0726 17:07:20.539860 140704285669248 deprecation_wrapper.py:119] From /usr/local/lib/python3.6/dist-packages/gpt_2_simple/src/model.py:148: The name tf.variable_scope is deprecated. Please use tf.compat.v1.variable_scope instead.\n",
      "\n",
      "W0726 17:07:25.556155 140704285669248 deprecation_wrapper.py:119] From /usr/local/lib/python3.6/dist-packages/gpt_2_simple/gpt_2.py:344: The name tf.train.Saver is deprecated. Please use tf.compat.v1.train.Saver instead.\n",
      "\n",
      "W0726 17:07:26.947633 140704285669248 deprecation.py:323] From /usr/local/lib/python3.6/dist-packages/tensorflow/python/training/saver.py:1276: checkpoint_exists (from tensorflow.python.training.checkpoint_management) is deprecated and will be removed in a future version.\n",
      "Instructions for updating:\n",
      "Use standard file APIs to check for files with this prefix.\n"
     ]
    },
    {
     "name": "stdout",
     "output_type": "stream",
     "text": [
      "Loading checkpoint checkpoint/run1/model-2000\n"
     ]
    }
   ],
   "source": [
    "sess = gpt2.start_tf_sess()\n",
    "gpt2.load_gpt2(sess, run_name='run1')"
   ]
  },
  {
   "cell_type": "code",
   "execution_count": 3,
   "metadata": {
    "colab": {
     "base_uri": "https://localhost:8080/",
     "height": 158
    },
    "colab_type": "code",
    "id": "4RNY6RBI9LmL",
    "outputId": "26aec5f2-a3b4-4e5e-bb6d-c33d6fc6bc09"
   },
   "outputs": [
    {
     "name": "stderr",
     "output_type": "stream",
     "text": [
      "W0726 17:07:56.256594 140704285669248 deprecation.py:323] From /usr/local/lib/python3.6/dist-packages/gpt_2_simple/src/sample.py:71: to_float (from tensorflow.python.ops.math_ops) is deprecated and will be removed in a future version.\n",
      "Instructions for updating:\n",
      "Use `tf.cast` instead.\n",
      "W0726 17:07:56.259347 140704285669248 deprecation.py:323] From /usr/local/lib/python3.6/dist-packages/gpt_2_simple/src/sample.py:77: multinomial (from tensorflow.python.ops.random_ops) is deprecated and will be removed in a future version.\n",
      "Instructions for updating:\n",
      "Use `tf.random.categorical` instead.\n"
     ]
    },
    {
     "name": "stdout",
     "output_type": "stream",
     "text": [
      "The Federal Open Market Committee decided today to keep its target for the federal funds rate at 5-1/4 percent. Economic growth was moderate during the first half of the year, and the labor market remains active. However, consumer spending has been growing strongly and business fixed investment has continued to expand. Inflation has continued to run below the Committee's longer-run objective, partly reflecting earlier declines in energy prices and decreasing prices of non-energy imports; energy prices appear to have stabilized. Market-based measures of inflation compensation remain low; survey-based measures of longer-term inflation expectations have remained stable. Consistent with its statutory mandate, the Committee seeks to foster maximum employment and price stability. The Committee expects that, with gradual adjustments in the stance of monetary policy, economic activity will expand at a moderate pace, labor market conditions will strengthen somewhat further, and inflation will stabilize around the Committee's 2 percent objective over the medium term. Near-term risks to the economic outlook appear roughly balanced. The Committee continues to closely monitor inflation indicators and global economic and financial developments. In view of realized and expected labor market conditions and inflation, the Committee decided to raise the target range for the federal funds rate to 3/4 to 1 percent. The stance of monetary policy remains accommodative, thereby supporting some further strengthening in labor market conditions and a sustained return to 2 percent inflation. In determining the timing and size of future adjustments to the target range for the federal funds rate, the Committee will assess realized and expected economic conditions relative to its objectives of maximum employment and 2 percent inflation. This assessment will take into account a wide range of information, including measures of labor market conditions, indicators of inflation pressures and inflation expectations, and readings on financial and international developments. In light of the current shortfall of inflation from 2 percent, the Committee will carefully monitor actual and expected progress toward its inflation goal. The Committee expects that economic conditions will evolve in a manner that will warrant only gradual increases in the federal funds rate; the federal funds rate is likely to remain, for some time, below levels that are expected to prevail in the longer run. However, the actual path of the federal funds rate will depend on the economic outlook as informed by incoming data. The Committee is maintaining its existing policy of reinvesting principal payments from its holdings of agency debt and agency mortgage-backed securities in agency mortgage-backed securities and of rolling over maturing Treasury securities at auction, and it anticipates doing so until normalization of the level of the federal funds rate is well under way. This policy, by keeping the Committee's holdings of longer-term securities at sizable levels, should help maintain accommodative financial conditions.       Information received since the Federal Open Market Committee met in December indicates that labor market conditions have improved further even as growth in economic activity appears to have slowed. Growth in household spending has moderated but has been solid, on average, since mid-year, and the housing sector has improved further; however, business fixed investment and net exports have been soft. A range of recent indicators, including strong job gains, points to additional strengthening of the labor market. Inflation has declined further below the Committee’s longer-run objective, largely reflecting earlier declines in energy prices and decreasing prices of non-energy imports. Market-based measures of inflation expectations have declined substantially in recent months; survey-based measures of longer-term inflation expectations have remained stable. Consistent with its statutory mandate, the Committee seeks to foster maximum employment and price stability. The Committee expects that, with gradual adjustments in the stance of monetary policy, economic activity will expand at a moderate pace, labor market conditions will strengthen somewhat further, and inflation will stabilize around the Committee's 2 percent objective over the medium term. Near-term risks to the economic outlook appear roughly balanced. The Committee continues to closely monitor inflation indicators and global economic and financial developments. In view of realized and expected labor market conditions and inflation, the Committee decided to maintain the target range for the federal funds rate at 3/4 to 1 percent. The stance of monetary policy remains accommodative, thereby supporting some further strengthening in labor market conditions and a sustained return to 2 percent inflation. In determining the timing and size of future adjustments to the target range for the federal funds rate, the Committee will assess realized and expected economic conditions relative to its objectives of maximum employment and 2 percent inflation. This assessment will take into account a wide range of information, including measures of labor market conditions, indicators of inflation pressures and inflation expectations, and readings on financial and international developments. In light of the current shortfall of inflation from 2 percent, the Committee will carefully monitor actual and expected progress toward its inflation goal. The Committee expects that economic conditions will evolve in a manner that will warrant only gradual increases in the federal funds rate; the federal funds rate is likely to remain, for some time, below levels that are expected to prevail in the longer run. However, the actual path of the federal funds rate will depend on the economic outlook as informed by incoming data. The Committee is maintaining its existing policy of\n"
     ]
    }
   ],
   "source": [
    "gpt2.generate(sess, run_name='run1')"
   ]
  },
  {
   "cell_type": "code",
   "execution_count": 0,
   "metadata": {
    "colab": {},
    "colab_type": "code",
    "id": "CqAebkwDcTPL"
   },
   "outputs": [],
   "source": [
    "text = gpt2.generate(sess, return_as_list=True)[0]"
   ]
  },
  {
   "cell_type": "code",
   "execution_count": 6,
   "metadata": {
    "colab": {
     "base_uri": "https://localhost:8080/",
     "height": 55
    },
    "colab_type": "code",
    "id": "UHJCHEzPQS1c",
    "outputId": "dfe7600f-8ea6-4531-a4f4-4a068010d7a6"
   },
   "outputs": [
    {
     "data": {
      "text/plain": [
       "\"As the Committee continues to anticipate, conditions in financial markets will evolve in a manner that will warrant only gradual increases in the federal funds rate; the federal funds rate is likely to remain, for some time, below levels that are expected to prevail in the longer run. However, the actual path of the federal funds rate will depend on the economic outlook as informed by incoming data. The Committee is maintaining its existing policy of reinvesting principal payments from its holdings of agency debt and agency mortgage-backed securities in agency mortgage-backed securities and of rolling over maturing Treasury securities at auction, and it anticipates doing so until normalization of the level of the federal funds rate is well under way. This policy, by keeping the Committee's holdings of longer-term securities at sizable levels, should help maintain accommodative financial conditions.       Information received since the Federal Open Market Committee met in December indicates that the labor market has continued to strengthen and that economic activity has continued to expand at a moderate pace. Job gains remained solid and the unemployment rate stayed near its recent low. Household spending has continued to rise moderately while business fixed investment has remained soft. Measures of consumer and business sentiment have improved of late. Inflation increased in recent quarters but is still below the Committee's longer-run objective. Market-based measures of inflation compensation remain low; most survey-based measures of longer-term inflation expectations are little changed, on balance. Consistent with its statutory mandate, the Committee seeks to foster maximum employment and price stability. The Committee expects that, with gradual adjustments in the stance of monetary policy, economic activity will expand at a moderate pace, labor market conditions will strengthen somewhat further, and inflation will rise to 2 percent over the medium term. Near-term risks to the economic outlook appear roughly balanced. The Committee continues to closely monitor inflation indicators and global economic and financial developments. In view of realized and expected labor market conditions and inflation, the Committee decided to raise the target range for the federal funds rate to 1/2 to 3/4 percent. The stance of monetary policy remains accommodative, thereby supporting some further strengthening in labor market conditions and a return to 2 percent inflation. In determining the timing and size of future adjustments to the target range for the federal funds rate, the Committee will assess realized and expected economic conditions relative to its objectives of maximum employment and 2 percent inflation. This assessment will take into account a wide range of information, including measures of labor market conditions, indicators of inflation pressures and inflation expectations, and readings on financial and international developments. In light of the current shortfall of inflation from 2 percent, the Committee will carefully monitor actual and expected progress toward its inflation goal. The Committee expects that economic conditions will evolve in a manner that will warrant only gradual increases in the federal funds rate; the federal funds rate is likely to remain, for some time, below levels that are expected to prevail in the longer run. However, the actual path of the federal funds rate will depend on the economic outlook as informed by incoming data. The Committee is maintaining its existing policy of reinvesting principal payments from its holdings of agency debt and agency mortgage-backed securities in agency mortgage-backed securities and of rolling over maturing Treasury securities at auction, and it anticipates doing so until normalization of the level of the federal funds rate is well under way. This policy, by keeping the Committee's holdings of longer-term securities at sizable levels, should help maintain accommodative financial conditions.       Information received since the Federal Open Market Committee met in February indicates that the labor market has continued to strengthen and that economic activity has continued to expand at a moderate pace. Job gains remained solid and the unemployment rate stayed near its recent low. Household spending has continued to rise moderately while business fixed investment has remained soft. Measures of consumer and business sentiment have improved. Inflation increased in recent quarters but is still below the Committee's longer-run objective. Market-based measures of inflation compensation remain low; most survey-based measures of longer-term inflation expectations are little changed, on balance. Consistent with its statutory mandate, the Committee seeks to foster maximum employment and price stability. The Committee expects that, with gradual adjustments in the stance of monetary policy, economic activity will expand at a moderate pace, labor market conditions will strengthen somewhat further, and inflation will rise to 2 percent over the medium term. Near-term risks to the economic outlook appear roughly balanced. The Committee continues to closely monitor inflation indicators and global economic and financial developments. In view of realized and expected labor market conditions and inflation, the Committee decided to raise the target range for the federal funds rate to 1/2 to 3/4 percent. The stance of monetary policy remains accommodative, thereby supporting some further strengthening in labor market conditions and a return to 2 percent inflation. In determining the timing and size of future adjustments to the target range for the federal funds rate, the Committee will assess realized and expected economic conditions relative to its objectives of maximum employment and 2 percent inflation. This assessment will take into account a wide range of information\""
      ]
     },
     "execution_count": 6,
     "metadata": {
      "tags": []
     },
     "output_type": "execute_result"
    }
   ],
   "source": [
    "text"
   ]
  },
  {
   "cell_type": "code",
   "execution_count": 16,
   "metadata": {
    "colab": {
     "base_uri": "https://localhost:8080/",
     "height": 210
    },
    "colab_type": "code",
    "id": "8DKMc0fiej4N",
    "outputId": "1453bf68-a7a5-45c0-e10b-7793cb2b9f79"
   },
   "outputs": [
    {
     "name": "stdout",
     "output_type": "stream",
     "text": [
      "The stock market volatility has diminished somewhat, partly reflecting a marked decline in energy prices. Nonetheless, investors remain concerned about the risk of a continuing gap between economic growth and potential supply at a time when the utilization of the pool of available workers remains at an unusually high level. The Committee judges that some further policy firming may be needed to keep the risks to the attainment of both sustainable economic growth and price stability roughly in balance. In any event, the Committee will respond to changes in economic prospects as needed to foster these objectives.       The Federal Open Market Committee decided today to raise its target for the federal funds rate by 25 basis points to 3-1/2 percent. The Committee believes that, even after this action, the stance of monetary policy remains accommodative and, coupled with robust underlying growth in productivity, is providing ongoing support to economic activity. Recent data suggest that the solid pace of spending growth has slowed somewhat, partly reflecting a decline in energy prices. Nonetheless, longer-term inflation expectations have remained stable. Consistent with its statutory mandate, the Committee seeks to foster maximum employment and price stability. The Committee judges that some softening in the growth of aggregate demand will be consistent with containing inflation, but it anticipates that the evolution of\n",
      "====================\n",
      "The stock market volatility in recent months has diminished somewhat, but the Committee anticipates that, with gradual adjustments in the stance of monetary policy, economic activity will expand at a moderate pace and labor market conditions will strengthen somewhat further. Inflation has been relatively low in recent months and longer-term inflation expectations remain well contained, but the Committee expects inflation to moderate in coming quarters to levels consistent with price stability. The Committee will continue to monitor closely the evolving economic situation. Against this backdrop, the Committee decided to maintain the target range for the federal funds rate at 1/2 to 3/4 percent. The stance of monetary policy remains accommodative, thereby supporting some further strengthening in labor market conditions and a sustained return to 2 percent inflation. In determining the timing and size of future adjustments to the target range for the federal funds rate, the Committee will assess realized and expected economic conditions relative to its objectives of maximum employment and 2 percent inflation. This assessment will take into account a wide range of information, including measures of labor market conditions, indicators of inflation pressures and inflation expectations, and readings on financial and international developments. In light of the current shortfall of inflation from 2 percent, the Committee will carefully monitor actual and expected progress toward its inflation goal. The Committee expects that economic conditions\n",
      "====================\n",
      "The stock market volatility has diminished since early this year, and the subdued behavior of those trading seem likely to hold down inflation. Still, the Committee judges that some inflation risks remain. The extent and timing of any additional firming that may be needed to address those risks will depend on the evolution of the outlook for both inflation and economic growth, as implied by incoming information. In any event, the Committee will respond to changes in economic prospects as needed to support the attainment of its objectives.       The Federal Open Market Committee decided today to keep its target for the federal funds rate at 5-1/4 percent. Recent indicators suggest that economic growth is moderating from its quite strong pace earlier this year, partly reflecting a gradual cooling of the housing market and the lagged effects of increases in interest rates and energy prices. Readings on core inflation have been elevated in recent months, and the high levels of resource utilization and of the prices of energy and other commodities have the potential to sustain inflation. However, inflation of late have been much lower than the Committee had expected, partly reflecting earlier declines in energy prices and decreasing prices of non-energy imports; energy prices appear to have stabilized. However, inflation of late has been much lower than the Committee had\n",
      "====================\n",
      "The stock market volatility has diminished somewhat, and the intensification of the housing correction is currently underway. However, business investment in equipment and software has been soft. Inflation has declined further below the Committee’s longer-run objective, largely reflecting declines in energy prices. Market-based measures of inflation compensation remain low; survey-based measures of longer-term inflation expectations have remained stable. Consistent with its statutory mandate, the Committee seeks to foster maximum employment and price stability. The Committee expects that, with appropriate policy accommodation, economic activity will expand at a moderate pace, with labor market indicators continuing to move toward levels the Committee judges consistent with its dual mandate. The Committee continues to see the risks to the outlook for economic activity and the labor market as nearly balanced. Inflation is anticipated to decline further in the near term, but the Committee expects inflation to rise gradually toward 2 percent over the medium term as the labor market improves further and the transitory effects of lower energy prices and other factors dissipate. The Committee continues to monitor inflation developments closely. To support continued progress toward maximum employment and price stability, the Committee today reaffirmed its view that the current 0 to 1/4 percent target range for the federal funds rate remains appropriate. In determining how long to\n",
      "====================\n",
      "The stock market volatility since the Committee met in March is consistent with the Committee's long-run objective of maximum employment. However, the Committee recognizes that, for the foreseeable future, against the background of its long run goals of price stability and sustainable economic growth and of the information currently available, the risks are weighted mainly toward conditions that may generate economic weakness. Voting for the FOMC monetary policy action were Alan Greenspan, Chairman; William J. McDonough, Vice Chairman; Ben S. Bernanke, Susan S. Bies; Roger W. Ferguson, Jr.; Edward M. Gramlich; Jerry L. Jordan; Donald L. Kohn, Robert D. McTeer, Jr.; Mark W. Olson; Anthony M. Santomero, and Gary H. Stern.        The Federal Open Market Committee decided today to keep its target for the federal funds rate unchanged at 1 3/4 percent. The information that has become available since the last meeting of the Committee suggests that aggregate demand is growing at a moderate pace. Over time, the current accommodative stance of monetary policy, coupled with still robust underlying growth in productivity, should be sufficient to foster an improving business climate over time. However, considerable uncertainty persists about\n",
      "====================\n"
     ]
    }
   ],
   "source": [
    "gpt2.generate(sess,\n",
    "              length=250,\n",
    "              temperature=0.7,\n",
    "              prefix=\"The stock market volatility\",\n",
    "              nsamples=5,\n",
    "              batch_size=5\n",
    "              )"
   ]
  },
  {
   "cell_type": "code",
   "execution_count": 0,
   "metadata": {
    "colab": {},
    "colab_type": "code",
    "id": "Fa6p6arifSL0"
   },
   "outputs": [],
   "source": [
    "gen_file = 'gpt2_gentext_{:%Y%m%d_%H%M%S}.txt'.format(datetime.utcnow())\n",
    "\n",
    "gpt2.generate_to_file(sess,\n",
    "                      destination_path=gen_file,\n",
    "                      length=300,\n",
    "                      temperature=0.7,\n",
    "                      nsamples=100,\n",
    "                      batch_size=20\n",
    "                      )\n",
    "\n",
    "files.download(gen_file)"
   ]
  }
 ],
 "metadata": {
  "accelerator": "GPU",
  "colab": {
   "collapsed_sections": [],
   "include_colab_link": true,
   "name": "Fedspeak - Fine-tune openAI's GPT-2 model with Federal Reserve statements of the past 25 years ",
   "provenance": [],
   "toc_visible": true,
   "version": "0.3.2"
  },
  "kernelspec": {
   "display_name": "Python 3",
   "language": "python",
   "name": "python3"
  },
  "language_info": {
   "codemirror_mode": {
    "name": "ipython",
    "version": 3
   },
   "file_extension": ".py",
   "mimetype": "text/x-python",
   "name": "python",
   "nbconvert_exporter": "python",
   "pygments_lexer": "ipython3",
   "version": "3.6.8"
  },
  "latex_envs": {
   "LaTeX_envs_menu_present": true,
   "autoclose": false,
   "autocomplete": true,
   "bibliofile": "biblio.bib",
   "cite_by": "apalike",
   "current_citInitial": 1,
   "eqLabelWithNumbers": true,
   "eqNumInitial": 1,
   "hotkeys": {
    "equation": "Ctrl-E",
    "itemize": "Ctrl-I"
   },
   "labels_anchors": false,
   "latex_user_defs": false,
   "report_style_numbering": false,
   "user_envs_cfg": false
  }
 },
 "nbformat": 4,
 "nbformat_minor": 1
}
