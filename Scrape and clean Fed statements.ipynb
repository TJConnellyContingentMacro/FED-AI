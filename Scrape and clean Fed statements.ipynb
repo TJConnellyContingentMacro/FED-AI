{
 "cells": [
  {
   "cell_type": "markdown",
   "metadata": {
    "hideCode": false,
    "hidePrompt": false
   },
   "source": [
    "# AI-generated Fed Statements - Data scraping, cleaning & EDA"
   ]
  },
  {
   "cell_type": "markdown",
   "metadata": {
    "hideCode": false,
    "hidePrompt": false
   },
   "source": [
    "## Dependencies"
   ]
  },
  {
   "cell_type": "code",
   "execution_count": 2,
   "metadata": {
    "hideCode": false,
    "hidePrompt": false
   },
   "outputs": [],
   "source": [
    "import pandas as pd\n",
    "import pickle\n",
    "from scraper import FOMC\n",
    "import re\n",
    "from datetime import date\n",
    "from collections import Counter\n",
    "\n",
    "from yellowbrick.text import DispersionPlot\n",
    "import matplotlib.pyplot as plt\n",
    "\n",
    "import spacy\n",
    "# only run line 9 if language model has not been pre-installed\n",
    "# !python -m spacy download en_core_web_md\n",
    "spacy_nlp = spacy.load('en_core_web_md')\n",
    "from spacy.lang.en.stop_words import STOP_WORDS"
   ]
  },
  {
   "cell_type": "markdown",
   "metadata": {},
   "source": [
    "## Scraping"
   ]
  },
  {
   "cell_type": "code",
   "execution_count": 3,
   "metadata": {
    "hideCode": false,
    "hidePrompt": false
   },
   "outputs": [
    {
     "name": "stdout",
     "output_type": "stream",
     "text": [
      "Getting links...\n",
      "There are 169 statements\n",
      "Getting articles - Multi-threaded...\n",
      "........................................................................................................................................................................."
     ]
    }
   ],
   "source": [
    "# run scraper\n",
    "fed = FOMC()\n",
    "df = fed.get_statements()"
   ]
  },
  {
   "cell_type": "code",
   "execution_count": 8,
   "metadata": {
    "hideCode": false,
    "hidePrompt": false
   },
   "outputs": [],
   "source": [
    "# load from pickled file\n",
    "# f = open('data/FOMC.pkl', 'rb')\n",
    "# df = pickle.load(f)\n",
    "# f.close()"
   ]
  },
  {
   "cell_type": "markdown",
   "metadata": {},
   "source": [
    "## Quick look at the data\n",
    "Checking a 1998 and a 2018 Fed statement to see how much cleaning and wrangling we will have to do"
   ]
  },
  {
   "cell_type": "code",
   "execution_count": 4,
   "metadata": {
    "hideCode": false,
    "hidePrompt": false
   },
   "outputs": [
    {
     "data": {
      "text/plain": [
       "169"
      ]
     },
     "execution_count": 4,
     "metadata": {},
     "output_type": "execute_result"
    }
   ],
   "source": [
    "len(df)"
   ]
  },
  {
   "cell_type": "code",
   "execution_count": 5,
   "metadata": {
    "hideCode": false,
    "hidePrompt": false
   },
   "outputs": [],
   "source": [
    "pd.set_option('display.max_colwidth', -1)"
   ]
  },
  {
   "cell_type": "code",
   "execution_count": 6,
   "metadata": {},
   "outputs": [
    {
     "data": {
      "text/html": [
       "<div>\n",
       "<style scoped>\n",
       "    .dataframe tbody tr th:only-of-type {\n",
       "        vertical-align: middle;\n",
       "    }\n",
       "\n",
       "    .dataframe tbody tr th {\n",
       "        vertical-align: top;\n",
       "    }\n",
       "\n",
       "    .dataframe thead th {\n",
       "        text-align: right;\n",
       "    }\n",
       "</style>\n",
       "<table border=\"1\" class=\"dataframe\">\n",
       "  <thead>\n",
       "    <tr style=\"text-align: right;\">\n",
       "      <th></th>\n",
       "      <th>statements</th>\n",
       "    </tr>\n",
       "  </thead>\n",
       "  <tbody>\n",
       "    <tr>\n",
       "      <th>1998-09-29</th>\n",
       "      <td>For immediate release\\n\\n\\n\\n\\n\\n\\r\\nThe Federal Open Market Committee decided today to ease the stance of monetary policy slightly, expecting the federal funds rate to decline 1/4 percentage point to around 5-1/4 percent.\\r\\n\\r\\n\\tThe action was taken to cushion the effects on prospective economic growth in the United States of increasing weakness in foreign economies and of less accommodative financial conditions domestically.  The recent changes in the global economy and adjustments in U.S. financial markets mean that a slightly lower federal funds rate should now be consistent with keeping inflation low and sustaining economic growth going forward.\\r\\n\\r\\n\\tThe discount rate remains unchanged at 5 percent.\\n\\nFor immediate release\\n\\n\\n\\n\\n\\n\\r\\nThe Federal Open Market Committee decided today to ease the stance of monetary policy slightly, expecting the federal funds rate to decline 1/4 percentage point to around 5-1/4 percent.\\r\\n\\r\\n\\tThe action was taken to cushion the effects on prospective economic growth in the United States of increasing weakness in foreign economies and of less accommodative financial conditions domestically.  The recent changes in the global economy and adjustments in U.S. financial markets mean that a slightly lower federal funds rate should now be consistent with keeping inflation low and sustaining economic growth going forward.\\r\\n\\r\\n\\tThe discount rate remains unchanged at 5 percent.\\n\\nThe Federal Open Market Committee decided today to ease the stance of monetary policy slightly, expecting the federal funds rate to decline 1/4 percentage point to around 5-1/4 percent.\\r\\n\\r\\n\\tThe action was taken to cushion the effects on prospective economic growth in the United States of increasing weakness in foreign economies and of less accommodative financial conditions domestically.  The recent changes in the global economy and adjustments in U.S. financial markets mean that a slightly lower federal funds rate should now be consistent with keeping inflation low and sustaining economic growth going forward.\\r\\n\\r\\n\\tThe discount rate remains unchanged at 5 percent.\\n\\nThe action was taken to cushion the effects on prospective economic growth in the United States of increasing weakness in foreign economies and of less accommodative financial conditions domestically.  The recent changes in the global economy and adjustments in U.S. financial markets mean that a slightly lower federal funds rate should now be consistent with keeping inflation low and sustaining economic growth going forward.\\r\\n\\r\\n\\tThe discount rate remains unchanged at 5 percent.\\n\\nThe discount rate remains unchanged at 5 percent.\\n\\n1998 Monetary policy\\n\\n Home | News and events\\nAccessibility\\n\\nLast update: September 29, 1998, 2:15 PM</td>\n",
       "    </tr>\n",
       "  </tbody>\n",
       "</table>\n",
       "</div>"
      ],
      "text/plain": [
       "                                                                                                                                                                                                                                                                                                                                                                                                                                                                                                                                                                                                                                                                                                                                                                                                                                                                                                                                                                                                                                                                                                                                                                                                                                                                                                                                                                                                                                                                                                                                                                                                                                                                                                                                                                                                                                                                                                                                                                                                                                                                                                                                                                                                                                                                                                                                                                                                                                                                                                                                                                                                                                                                                                                                                                                                                                                                                                statements\n",
       "1998-09-29  For immediate release\\n\\n\\n\\n\\n\\n\\r\\nThe Federal Open Market Committee decided today to ease the stance of monetary policy slightly, expecting the federal funds rate to decline 1/4 percentage point to around 5-1/4 percent.\\r\\n\\r\\n\\tThe action was taken to cushion the effects on prospective economic growth in the United States of increasing weakness in foreign economies and of less accommodative financial conditions domestically.  The recent changes in the global economy and adjustments in U.S. financial markets mean that a slightly lower federal funds rate should now be consistent with keeping inflation low and sustaining economic growth going forward.\\r\\n\\r\\n\\tThe discount rate remains unchanged at 5 percent.\\n\\nFor immediate release\\n\\n\\n\\n\\n\\n\\r\\nThe Federal Open Market Committee decided today to ease the stance of monetary policy slightly, expecting the federal funds rate to decline 1/4 percentage point to around 5-1/4 percent.\\r\\n\\r\\n\\tThe action was taken to cushion the effects on prospective economic growth in the United States of increasing weakness in foreign economies and of less accommodative financial conditions domestically.  The recent changes in the global economy and adjustments in U.S. financial markets mean that a slightly lower federal funds rate should now be consistent with keeping inflation low and sustaining economic growth going forward.\\r\\n\\r\\n\\tThe discount rate remains unchanged at 5 percent.\\n\\nThe Federal Open Market Committee decided today to ease the stance of monetary policy slightly, expecting the federal funds rate to decline 1/4 percentage point to around 5-1/4 percent.\\r\\n\\r\\n\\tThe action was taken to cushion the effects on prospective economic growth in the United States of increasing weakness in foreign economies and of less accommodative financial conditions domestically.  The recent changes in the global economy and adjustments in U.S. financial markets mean that a slightly lower federal funds rate should now be consistent with keeping inflation low and sustaining economic growth going forward.\\r\\n\\r\\n\\tThe discount rate remains unchanged at 5 percent.\\n\\nThe action was taken to cushion the effects on prospective economic growth in the United States of increasing weakness in foreign economies and of less accommodative financial conditions domestically.  The recent changes in the global economy and adjustments in U.S. financial markets mean that a slightly lower federal funds rate should now be consistent with keeping inflation low and sustaining economic growth going forward.\\r\\n\\r\\n\\tThe discount rate remains unchanged at 5 percent.\\n\\nThe discount rate remains unchanged at 5 percent.\\n\\n1998 Monetary policy\\n\\n Home | News and events\\nAccessibility\\n\\nLast update: September 29, 1998, 2:15 PM"
      ]
     },
     "execution_count": 6,
     "metadata": {},
     "output_type": "execute_result"
    }
   ],
   "source": [
    "df['1998-09-01':'1998-10-01']"
   ]
  },
  {
   "cell_type": "code",
   "execution_count": 7,
   "metadata": {},
   "outputs": [
    {
     "data": {
      "text/html": [
       "<div>\n",
       "<style scoped>\n",
       "    .dataframe tbody tr th:only-of-type {\n",
       "        vertical-align: middle;\n",
       "    }\n",
       "\n",
       "    .dataframe tbody tr th {\n",
       "        vertical-align: top;\n",
       "    }\n",
       "\n",
       "    .dataframe thead th {\n",
       "        text-align: right;\n",
       "    }\n",
       "</style>\n",
       "<table border=\"1\" class=\"dataframe\">\n",
       "  <thead>\n",
       "    <tr style=\"text-align: right;\">\n",
       "      <th></th>\n",
       "      <th>statements</th>\n",
       "    </tr>\n",
       "  </thead>\n",
       "  <tbody>\n",
       "    <tr>\n",
       "      <th>2018-09-26</th>\n",
       "      <td>The Federal Reserve, the central bank of the United States, provides the nation with a safe, flexible, and stable monetary and financial system.\\n\\nFederal Open Market Committee\\n\\nMonetary Policy Principles and Practice\\n\\nPolicy Implementation\\n\\nReports\\n\\nReview of Monetary Policy Strategy, Tools, and Communications\\n\\nInstitution Supervision\\n\\nReports\\n\\nReporting Forms\\n\\nSupervision &amp; Regulation Letters\\n\\nBanking Applications &amp; Legal Developments\\n\\nRegulatory Resources\\n\\nBanking &amp; Data Structure\\n\\nRegulations &amp; Statutes\\n\\nPayment Policies\\n\\nReserve Bank Payment Services &amp; Data\\n\\nFinancial Market Utilities &amp; Infrastructures\\n\\nResearch, Committees, and Forums\\n\\nWorking Papers and Notes\\n\\nModels and Tools\\n\\nBank Assets and Liabilities\\n\\nBank Structure Data\\n\\nBusiness Finance\\n\\nDealer Financing Terms\\n\\nExchange Rates and International Data\\n\\nFinancial Accounts\\n\\nHousehold Finance\\n\\nIndustrial Activity\\n\\nInterest Rates\\n\\nMicro Data Reference Manual (MDRM)\\n\\nMoney Stock and Reserve Balances\\n\\nRegulations\\n\\nSupervision &amp; Enforcement\\n\\nCommunity Development\\n\\nResearch &amp; Analysis\\n\\nConsumer Resources\\n\\nSeptember 26, 2018\\n\\nFor release at 2:00 p.m. EDT                     \\n                \\n                \\n\\nShare\\n\\nInformation received since the Federal Open Market Committee met in August indicates that the labor market has continued to strengthen and that economic activity has been rising at a strong rate. Job gains have been strong, on average, in recent months, and the unemployment rate has stayed low. Household spending and business fixed investment have grown strongly. On a 12-month basis, both overall inflation and inflation for items other than food and energy remain near 2 percent. Indicators of longer-term inflation expectations are little changed, on balance.\\n\\nConsistent with its statutory mandate, the Committee seeks to foster maximum employment and price stability. The Committee expects that further gradual increases in the target range for the federal funds rate will be consistent with sustained expansion of economic activity, strong labor market conditions, and inflation near the Committee's symmetric 2 percent objective over the medium term. Risks to the economic outlook appear roughly balanced.\\n\\nIn view of realized and expected labor market conditions and inflation, the Committee decided to raise the target range for the federal funds rate to 2 to 2-1/4 percent.\\n\\nIn determining the timing and size of future adjustments to the target range for the federal funds rate, the Committee will assess realized and expected economic conditions relative to its maximum employment objective and its symmetric 2 percent inflation objective. This assessment will take into account a wide range of information, including measures of labor market conditions, indicators of inflation pressures and inflation expectations, and readings on financial and international developments.\\n\\nVoting for the FOMC monetary policy action were: Jerome H. Powell, Chairman; John C. Williams, Vice Chairman; Thomas I. Barkin; Raphael W. Bostic; Lael Brainard; Richard H. Clarida; Esther L. George; Loretta J. Mester; and Randal K. Quarles.\\n\\nImplementation Note issued September 26, 2018\\n\\nBoard of Governors of the Federal Reserve System\\n\\n20th Street and Constitution Avenue N.W., Washington, DC 20551</td>\n",
       "    </tr>\n",
       "  </tbody>\n",
       "</table>\n",
       "</div>"
      ],
      "text/plain": [
       "                                                                                                                                                                                                                                                                                                                                                                                                                                                                                                                                                                                                                                                                                                                                                                                                                                                                                                                                                                                                                                                                                                                                                                                                                                                                                                                                                                                                                                                                                                                                                                                                                                                                                                                                                                                                                                                                                                                                                                                                                                                                                                                                                                                                                                                                                                                                                                                                                                                                                                                                                                                                                                                                                                                                                                                                                                                                                                                                                                                                                                                                                                                                                                                                                                                                                                                                                                                                                                                                                                              statements\n",
       "2018-09-26  The Federal Reserve, the central bank of the United States, provides the nation with a safe, flexible, and stable monetary and financial system.\\n\\nFederal Open Market Committee\\n\\nMonetary Policy Principles and Practice\\n\\nPolicy Implementation\\n\\nReports\\n\\nReview of Monetary Policy Strategy, Tools, and Communications\\n\\nInstitution Supervision\\n\\nReports\\n\\nReporting Forms\\n\\nSupervision & Regulation Letters\\n\\nBanking Applications & Legal Developments\\n\\nRegulatory Resources\\n\\nBanking & Data Structure\\n\\nRegulations & Statutes\\n\\nPayment Policies\\n\\nReserve Bank Payment Services & Data\\n\\nFinancial Market Utilities & Infrastructures\\n\\nResearch, Committees, and Forums\\n\\nWorking Papers and Notes\\n\\nModels and Tools\\n\\nBank Assets and Liabilities\\n\\nBank Structure Data\\n\\nBusiness Finance\\n\\nDealer Financing Terms\\n\\nExchange Rates and International Data\\n\\nFinancial Accounts\\n\\nHousehold Finance\\n\\nIndustrial Activity\\n\\nInterest Rates\\n\\nMicro Data Reference Manual (MDRM)\\n\\nMoney Stock and Reserve Balances\\n\\nRegulations\\n\\nSupervision & Enforcement\\n\\nCommunity Development\\n\\nResearch & Analysis\\n\\nConsumer Resources\\n\\nSeptember 26, 2018\\n\\nFor release at 2:00 p.m. EDT                     \\n                \\n                \\n\\nShare\\n\\nInformation received since the Federal Open Market Committee met in August indicates that the labor market has continued to strengthen and that economic activity has been rising at a strong rate. Job gains have been strong, on average, in recent months, and the unemployment rate has stayed low. Household spending and business fixed investment have grown strongly. On a 12-month basis, both overall inflation and inflation for items other than food and energy remain near 2 percent. Indicators of longer-term inflation expectations are little changed, on balance.\\n\\nConsistent with its statutory mandate, the Committee seeks to foster maximum employment and price stability. The Committee expects that further gradual increases in the target range for the federal funds rate will be consistent with sustained expansion of economic activity, strong labor market conditions, and inflation near the Committee's symmetric 2 percent objective over the medium term. Risks to the economic outlook appear roughly balanced.\\n\\nIn view of realized and expected labor market conditions and inflation, the Committee decided to raise the target range for the federal funds rate to 2 to 2-1/4 percent.\\n\\nIn determining the timing and size of future adjustments to the target range for the federal funds rate, the Committee will assess realized and expected economic conditions relative to its maximum employment objective and its symmetric 2 percent inflation objective. This assessment will take into account a wide range of information, including measures of labor market conditions, indicators of inflation pressures and inflation expectations, and readings on financial and international developments.\\n\\nVoting for the FOMC monetary policy action were: Jerome H. Powell, Chairman; John C. Williams, Vice Chairman; Thomas I. Barkin; Raphael W. Bostic; Lael Brainard; Richard H. Clarida; Esther L. George; Loretta J. Mester; and Randal K. Quarles.\\n\\nImplementation Note issued September 26, 2018\\n\\nBoard of Governors of the Federal Reserve System\\n\\n20th Street and Constitution Avenue N.W., Washington, DC 20551"
      ]
     },
     "execution_count": 7,
     "metadata": {},
     "output_type": "execute_result"
    }
   ],
   "source": [
    "df['2018-09-01':'2018-10-01']"
   ]
  },
  {
   "cell_type": "markdown",
   "metadata": {
    "hideCode": false,
    "hidePrompt": false
   },
   "source": [
    "## Cleaning the data"
   ]
  },
  {
   "cell_type": "code",
   "execution_count": 9,
   "metadata": {
    "hideCode": false,
    "hidePrompt": false
   },
   "outputs": [],
   "source": [
    "# remove line breaks\n",
    "df['statements'].replace(r'\\s+|\\\\n', ' ', regex=True, inplace=True) \n",
    "\n",
    "# removes superfluous year dates\n",
    "df['statements'] = df['statements'].str.replace('\\. \\d{4}', '. ', \\\n",
    "            flags=re.IGNORECASE) \n",
    "\n",
    "def regex_clean(term_list):\n",
    "    \"\"\"Cutting irrelevant phrases\"\"\"\n",
    "    for term in term_list:\n",
    "        df['statements'] = df['statements'].str.replace(term, ' ', flags=re.IGNORECASE)\n",
    "\n",
    "# list of regex terms to find phrases to be deleted\n",
    "regex_terms = ['^(.*Share)', '^(.*For immediate release)', \\\n",
    "               '(Voting for the FOMC monetary policy action were:).*',\\\n",
    "               '(Voting for the monetary policy action were).*',\\\n",
    "               '(Monetary policy Home).*', '(Monetary policy Last update).*']\n",
    "\n",
    "regex_clean(regex_terms)"
   ]
  },
  {
   "cell_type": "code",
   "execution_count": 10,
   "metadata": {
    "hideCode": false,
    "hidePrompt": false
   },
   "outputs": [
    {
     "data": {
      "text/html": [
       "<div>\n",
       "<style scoped>\n",
       "    .dataframe tbody tr th:only-of-type {\n",
       "        vertical-align: middle;\n",
       "    }\n",
       "\n",
       "    .dataframe tbody tr th {\n",
       "        vertical-align: top;\n",
       "    }\n",
       "\n",
       "    .dataframe thead th {\n",
       "        text-align: right;\n",
       "    }\n",
       "</style>\n",
       "<table border=\"1\" class=\"dataframe\">\n",
       "  <thead>\n",
       "    <tr style=\"text-align: right;\">\n",
       "      <th></th>\n",
       "      <th>statements</th>\n",
       "    </tr>\n",
       "  </thead>\n",
       "  <tbody>\n",
       "    <tr>\n",
       "      <th>1998-09-29</th>\n",
       "      <td>The Federal Open Market Committee decided today to ease the stance of monetary policy slightly, expecting the federal funds rate to decline 1/4 percentage point to around 5-1/4 percent. The action was taken to cushion the effects on prospective economic growth in the United States of increasing weakness in foreign economies and of less accommodative financial conditions domestically. The recent changes in the global economy and adjustments in U.S. financial markets mean that a slightly lower federal funds rate should now be consistent with keeping inflation low and sustaining economic growth going forward. The discount rate remains unchanged at 5 percent. The Federal Open Market Committee decided today to ease the stance of monetary policy slightly, expecting the federal funds rate to decline 1/4 percentage point to around 5-1/4 percent. The action was taken to cushion the effects on prospective economic growth in the United States of increasing weakness in foreign economies and of less accommodative financial conditions domestically. The recent changes in the global economy and adjustments in U.S. financial markets mean that a slightly lower federal funds rate should now be consistent with keeping inflation low and sustaining economic growth going forward. The discount rate remains unchanged at 5 percent. The action was taken to cushion the effects on prospective economic growth in the United States of increasing weakness in foreign economies and of less accommodative financial conditions domestically. The recent changes in the global economy and adjustments in U.S. financial markets mean that a slightly lower federal funds rate should now be consistent with keeping inflation low and sustaining economic growth going forward. The discount rate remains unchanged at 5 percent. The discount rate remains unchanged at 5 percent.</td>\n",
       "    </tr>\n",
       "  </tbody>\n",
       "</table>\n",
       "</div>"
      ],
      "text/plain": [
       "                                                                                                                                                                                                                                                                                                                                                                                                                                                                                                                                                                                                                                                                                                                                                                                                                                                                                                                                                                                                                                                                                                                                                                                                                                                                                                                                                                                                                                                                                                                                                                                                                                                                                                                                                                                                                                                                                                                                      statements\n",
       "1998-09-29    The Federal Open Market Committee decided today to ease the stance of monetary policy slightly, expecting the federal funds rate to decline 1/4 percentage point to around 5-1/4 percent. The action was taken to cushion the effects on prospective economic growth in the United States of increasing weakness in foreign economies and of less accommodative financial conditions domestically. The recent changes in the global economy and adjustments in U.S. financial markets mean that a slightly lower federal funds rate should now be consistent with keeping inflation low and sustaining economic growth going forward. The discount rate remains unchanged at 5 percent. The Federal Open Market Committee decided today to ease the stance of monetary policy slightly, expecting the federal funds rate to decline 1/4 percentage point to around 5-1/4 percent. The action was taken to cushion the effects on prospective economic growth in the United States of increasing weakness in foreign economies and of less accommodative financial conditions domestically. The recent changes in the global economy and adjustments in U.S. financial markets mean that a slightly lower federal funds rate should now be consistent with keeping inflation low and sustaining economic growth going forward. The discount rate remains unchanged at 5 percent. The action was taken to cushion the effects on prospective economic growth in the United States of increasing weakness in foreign economies and of less accommodative financial conditions domestically. The recent changes in the global economy and adjustments in U.S. financial markets mean that a slightly lower federal funds rate should now be consistent with keeping inflation low and sustaining economic growth going forward. The discount rate remains unchanged at 5 percent. The discount rate remains unchanged at 5 percent.   "
      ]
     },
     "execution_count": 10,
     "metadata": {},
     "output_type": "execute_result"
    }
   ],
   "source": [
    "df[\"1998-09-01\":\"1998-10-10\"]"
   ]
  },
  {
   "cell_type": "code",
   "execution_count": 11,
   "metadata": {
    "hideCode": false,
    "hidePrompt": false
   },
   "outputs": [
    {
     "data": {
      "text/html": [
       "<div>\n",
       "<style scoped>\n",
       "    .dataframe tbody tr th:only-of-type {\n",
       "        vertical-align: middle;\n",
       "    }\n",
       "\n",
       "    .dataframe tbody tr th {\n",
       "        vertical-align: top;\n",
       "    }\n",
       "\n",
       "    .dataframe thead th {\n",
       "        text-align: right;\n",
       "    }\n",
       "</style>\n",
       "<table border=\"1\" class=\"dataframe\">\n",
       "  <thead>\n",
       "    <tr style=\"text-align: right;\">\n",
       "      <th></th>\n",
       "      <th>statements</th>\n",
       "    </tr>\n",
       "  </thead>\n",
       "  <tbody>\n",
       "    <tr>\n",
       "      <th>2018-09-26</th>\n",
       "      <td>Information received since the Federal Open Market Committee met in August indicates that the labor market has continued to strengthen and that economic activity has been rising at a strong rate. Job gains have been strong, on average, in recent months, and the unemployment rate has stayed low. Household spending and business fixed investment have grown strongly. On a 12-month basis, both overall inflation and inflation for items other than food and energy remain near 2 percent. Indicators of longer-term inflation expectations are little changed, on balance. Consistent with its statutory mandate, the Committee seeks to foster maximum employment and price stability. The Committee expects that further gradual increases in the target range for the federal funds rate will be consistent with sustained expansion of economic activity, strong labor market conditions, and inflation near the Committee's symmetric 2 percent objective over the medium term. Risks to the economic outlook appear roughly balanced. In view of realized and expected labor market conditions and inflation, the Committee decided to raise the target range for the federal funds rate to 2 to 2-1/4 percent. In determining the timing and size of future adjustments to the target range for the federal funds rate, the Committee will assess realized and expected economic conditions relative to its maximum employment objective and its symmetric 2 percent inflation objective. This assessment will take into account a wide range of information, including measures of labor market conditions, indicators of inflation pressures and inflation expectations, and readings on financial and international developments.</td>\n",
       "    </tr>\n",
       "  </tbody>\n",
       "</table>\n",
       "</div>"
      ],
      "text/plain": [
       "                                                                                                                                                                                                                                                                                                                                                                                                                                                                                                                                                                                                                                                                                                                                                                                                                                                                                                                                                                                                                                                                                                                                                                                                                                                                                                                                                                                                                                                                                                                                                                                                                                                                                                                                                           statements\n",
       "2018-09-26    Information received since the Federal Open Market Committee met in August indicates that the labor market has continued to strengthen and that economic activity has been rising at a strong rate. Job gains have been strong, on average, in recent months, and the unemployment rate has stayed low. Household spending and business fixed investment have grown strongly. On a 12-month basis, both overall inflation and inflation for items other than food and energy remain near 2 percent. Indicators of longer-term inflation expectations are little changed, on balance. Consistent with its statutory mandate, the Committee seeks to foster maximum employment and price stability. The Committee expects that further gradual increases in the target range for the federal funds rate will be consistent with sustained expansion of economic activity, strong labor market conditions, and inflation near the Committee's symmetric 2 percent objective over the medium term. Risks to the economic outlook appear roughly balanced. In view of realized and expected labor market conditions and inflation, the Committee decided to raise the target range for the federal funds rate to 2 to 2-1/4 percent. In determining the timing and size of future adjustments to the target range for the federal funds rate, the Committee will assess realized and expected economic conditions relative to its maximum employment objective and its symmetric 2 percent inflation objective. This assessment will take into account a wide range of information, including measures of labor market conditions, indicators of inflation pressures and inflation expectations, and readings on financial and international developments.  "
      ]
     },
     "execution_count": 11,
     "metadata": {},
     "output_type": "execute_result"
    }
   ],
   "source": [
    "df['2018-09-01':'2018-10-01']"
   ]
  },
  {
   "cell_type": "code",
   "execution_count": 12,
   "metadata": {
    "hideCode": false,
    "hidePrompt": false
   },
   "outputs": [],
   "source": [
    "#pickle dataframe\n",
    "f = open('data/FOMC_cleaned.pkl', 'wb')\n",
    "pickle.dump(df, f)\n",
    "f.close()"
   ]
  },
  {
   "cell_type": "markdown",
   "metadata": {
    "hideCode": false,
    "hidePrompt": false
   },
   "source": [
    "## Save file for fine-tuning AI model"
   ]
  },
  {
   "cell_type": "code",
   "execution_count": 17,
   "metadata": {
    "hideCode": false,
    "hidePrompt": false
   },
   "outputs": [],
   "source": [
    "tfile = open('data/text_clean.txt', 'a')\n",
    "tfile.write(df.statements.str.cat(sep='   '))\n",
    "tfile.close()"
   ]
  },
  {
   "cell_type": "markdown",
   "metadata": {
    "hideCode": false,
    "hidePrompt": false
   },
   "source": [
    "## Some further EDA"
   ]
  },
  {
   "cell_type": "code",
   "execution_count": 18,
   "metadata": {},
   "outputs": [
    {
     "name": "stdout",
     "output_type": "stream",
     "text": [
      "Total word count:  62,820\n",
      "Total article count:  169\n",
      "\n",
      "Average number of words per article:  371\n"
     ]
    }
   ],
   "source": [
    "word_count_total = df.statements.str.split().str.len().sum()\n",
    "article_count = df.shape[0]\n",
    "article_word_average =  word_count_total / article_count\n",
    "\n",
    "print(\"Total word count: \", format(word_count_total, ','))\n",
    "print(\"Total article count: \", format(article_count, ','))\n",
    "print()\n",
    "print(\"Average number of words per article: \", format(int(article_word_average), ','))"
   ]
  },
  {
   "cell_type": "code",
   "execution_count": 19,
   "metadata": {
    "hideCode": false,
    "hidePrompt": false
   },
   "outputs": [],
   "source": [
    "df['totalwords'] = df['statements'].str.split().str.len()"
   ]
  },
  {
   "cell_type": "code",
   "execution_count": 20,
   "metadata": {},
   "outputs": [
    {
     "data": {
      "text/html": [
       "<div>\n",
       "<style scoped>\n",
       "    .dataframe tbody tr th:only-of-type {\n",
       "        vertical-align: middle;\n",
       "    }\n",
       "\n",
       "    .dataframe tbody tr th {\n",
       "        vertical-align: top;\n",
       "    }\n",
       "\n",
       "    .dataframe thead th {\n",
       "        text-align: right;\n",
       "    }\n",
       "</style>\n",
       "<table border=\"1\" class=\"dataframe\">\n",
       "  <thead>\n",
       "    <tr style=\"text-align: right;\">\n",
       "      <th></th>\n",
       "      <th>statements</th>\n",
       "      <th>totalwords</th>\n",
       "    </tr>\n",
       "  </thead>\n",
       "  <tbody>\n",
       "    <tr>\n",
       "      <th>2018-12-19</th>\n",
       "      <td>Information received since the Federal Open Market Committee met in November indicates that th...</td>\n",
       "      <td>289</td>\n",
       "    </tr>\n",
       "    <tr>\n",
       "      <th>2019-01-30</th>\n",
       "      <td>Information received since the Federal Open Market Committee met in December indicates that th...</td>\n",
       "      <td>287</td>\n",
       "    </tr>\n",
       "    <tr>\n",
       "      <th>2019-03-20</th>\n",
       "      <td>Information received since the Federal Open Market Committee met in January indicates that the...</td>\n",
       "      <td>303</td>\n",
       "    </tr>\n",
       "    <tr>\n",
       "      <th>2019-05-01</th>\n",
       "      <td>Information received since the Federal Open Market Committee met in March indicates that the l...</td>\n",
       "      <td>279</td>\n",
       "    </tr>\n",
       "    <tr>\n",
       "      <th>2019-06-19</th>\n",
       "      <td>Information received since the Federal Open Market Committee met in May indicates that the lab...</td>\n",
       "      <td>293</td>\n",
       "    </tr>\n",
       "  </tbody>\n",
       "</table>\n",
       "</div>"
      ],
      "text/plain": [
       "                                                                                                     statements  \\\n",
       "2018-12-19    Information received since the Federal Open Market Committee met in November indicates that th...   \n",
       "2019-01-30    Information received since the Federal Open Market Committee met in December indicates that th...   \n",
       "2019-03-20    Information received since the Federal Open Market Committee met in January indicates that the...   \n",
       "2019-05-01    Information received since the Federal Open Market Committee met in March indicates that the l...   \n",
       "2019-06-19    Information received since the Federal Open Market Committee met in May indicates that the lab...   \n",
       "\n",
       "            totalwords  \n",
       "2018-12-19         289  \n",
       "2019-01-30         287  \n",
       "2019-03-20         303  \n",
       "2019-05-01         279  \n",
       "2019-06-19         293  "
      ]
     },
     "execution_count": 20,
     "metadata": {},
     "output_type": "execute_result"
    }
   ],
   "source": [
    "pd.set_option('display.max_colwidth', 100)\n",
    "df.tail()"
   ]
  },
  {
   "cell_type": "code",
   "execution_count": 21,
   "metadata": {},
   "outputs": [],
   "source": [
    "# to apply NER to all articles, we concatenate all rows of the dataframe\n",
    "whole = spacy_nlp(df.statements.str.cat(sep=' '))"
   ]
  },
  {
   "cell_type": "code",
   "execution_count": 22,
   "metadata": {},
   "outputs": [
    {
     "data": {
      "text/plain": [
       "[('Committee', 1237),\n",
       " ('inflation', 931),\n",
       " ('rate', 776),\n",
       " ('economic', 746),\n",
       " ('market', 544),\n",
       " ('Federal', 516),\n",
       " ('condition', 461),\n",
       " ('percent', 458),\n",
       " ('continue', 440),\n",
       " ('price', 438),\n",
       " ('growth', 432),\n",
       " ('remain', 400),\n",
       " ('federal', 392),\n",
       " ('fund', 385),\n",
       " ('policy', 366)]"
      ]
     },
     "execution_count": 22,
     "metadata": {},
     "output_type": "execute_result"
    }
   ],
   "source": [
    "# apply lemmatisation + stopword removal to all words; show the most frequest of those\n",
    "words = [token.lemma_ for token in whole.doc if token.is_stop != True and token.is_punct != True]\n",
    "Counter(words).most_common(15)"
   ]
  },
  {
   "cell_type": "markdown",
   "metadata": {},
   "source": [
    "Interestingly the second most important word is \"inflation\". The Fed's mandate is two-fold: maximum sustainable employment and price stability. So inflation, which is related to price stability, is a more common word here than employment. With 916 to 169 occurrences, inflation is mentioned 5.4 times more often than employment. "
   ]
  },
  {
   "cell_type": "code",
   "execution_count": 23,
   "metadata": {},
   "outputs": [
    {
     "name": "stderr",
     "output_type": "stream",
     "text": [
      "/Users/marceldietsch/Documents/backtesting/venv/lib/python3.6/site-packages/yellowbrick/text/dispersion.py:163: FutureWarning: arrays to stack must be passed as a \"sequence\" type such as list or tuple. Support for non-sequence iterables such as generators is deprecated as of NumPy 1.16 and will raise an error in the future.\n",
      "  points_target = np.stack(self._compute_dispersion(X, y))\n",
      "/Users/marceldietsch/Documents/backtesting/venv/lib/python3.6/site-packages/yellowbrick/text/dispersion.py:169: FutureWarning: arrays to stack must be passed as a \"sequence\" type such as list or tuple. Support for non-sequence iterables such as generators is deprecated as of NumPy 1.16 and will raise an error in the future.\n",
      "  points_target[:,1].astype(int)))\n",
      "'c' argument looks like a single numeric RGB or RGBA sequence, which should be avoided as value-mapping will have precedence in case its length matches with 'x' & 'y'.  Please use a 2-D array with a single row if you really want to specify the same RGB or RGBA value for all points.\n"
     ]
    },
    {
     "data": {
      "image/png": "[encoded data removed]",
      "text/plain": [
       "<Figure size 850x280 with 1 Axes>"
      ]
     },
     "metadata": {
      "needs_background": "light"
     },
     "output_type": "display_data"
    }
   ],
   "source": [
    "# Load the text data\n",
    "df_dispersion = df.statements\n",
    "df_dispersion = df_dispersion.T.squeeze()\n",
    "\n",
    "# Create a list of words from the corpus text\n",
    "text = [doc.split() for doc in df_dispersion]\n",
    "\n",
    "# Choose words whose occurence in the text will be plotted\n",
    "target_words = ['inflation', 'employment', 'housing', 'international', 'global'] \n",
    "\n",
    "# Create the visualizer and draw the plot\n",
    "visualizer = DispersionPlot(target_words, size=(850, 280))\n",
    "visualizer.fit(text)\n",
    "\n",
    "visualizer.poof()\n"
   ]
  }
 ],
 "metadata": {
  "celltoolbar": "Hide code",
  "hide_code_all_hidden": true,
  "kernelspec": {
   "display_name": "Python 3",
   "language": "python",
   "name": "python3"
  },
  "language_info": {
   "codemirror_mode": {
    "name": "ipython",
    "version": 3
   },
   "file_extension": ".py",
   "mimetype": "text/x-python",
   "name": "python",
   "nbconvert_exporter": "python",
   "pygments_lexer": "ipython3",
   "version": "3.6.8"
  },
  "latex_envs": {
   "LaTeX_envs_menu_present": true,
   "autoclose": false,
   "autocomplete": true,
   "bibliofile": "biblio.bib",
   "cite_by": "apalike",
   "current_citInitial": 1,
   "eqLabelWithNumbers": true,
   "eqNumInitial": 1,
   "hotkeys": {
    "equation": "Ctrl-E",
    "itemize": "Ctrl-I"
   },
   "labels_anchors": false,
   "latex_user_defs": false,
   "report_style_numbering": false,
   "user_envs_cfg": false
  }
 },
 "nbformat": 4,
 "nbformat_minor": 2
}
